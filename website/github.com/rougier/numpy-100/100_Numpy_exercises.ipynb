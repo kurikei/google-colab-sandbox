{
  "nbformat": 4,
  "nbformat_minor": 0,
  "metadata": {
    "colab": {
      "name": "100_Numpy_exercises_no_solution.ipynb.txt",
      "version": "0.3.2",
      "provenance": [],
      "collapsed_sections": [
        "F8bDkmtxESxm",
        "UjqntgCPESxo",
        "ebgycz22ESxr",
        "b9Di_kZ8ESxu",
        "gohefKplESxx",
        "3fulkr20ESxz",
        "gVDJER9FESx2",
        "qmVedwv1ESx4",
        "2sLtK17vESx7",
        "0BmGHXhDESx-",
        "HgWBtbMFESyB",
        "SjXVL3xgESyD",
        "3Ngh3slaESyJ",
        "3YU9f9oYESyL",
        "Yws6sLMlESyP",
        "QVspzk1HESyT",
        "TP6wfg4NESyV",
        "KjXsKP-BESyb",
        "zT2noqUuESye",
        "guGTsLhaESyh",
        "B8weKz0DESyn",
        "05a6HJrmESyp",
        "uI5g-zNEESys",
        "Nu7vly_1ESyv",
        "3s4n2ha7ESyx",
        "KJHWOcJAESyy",
        "G3l4VhplESy1",
        "wtDgyVKFESy5",
        "Ng8UIvbnESy7",
        "B4Gct9zFESy9",
        "0O19JkZgESy-",
        "cU_602FtESzC",
        "WRFzYymMESzE",
        "F7vXsPA-ESzF",
        "7VwtPBswESzL",
        "egywrsCvESzM",
        "cWbyccEkESzR",
        "AX6W6DaIESzS",
        "UtcBqxacESzU",
        "b5YigTJYESzW",
        "AhDwbPq3ESzX",
        "D0pbOaNVESzZ",
        "XDnN72c7ESzb",
        "hoNYdSAxESzd",
        "plAnwM3ZESzh",
        "rgxp0nfLESzj",
        "8WI5YNRiESzl",
        "LykXN4JHESzm",
        "5wUjNMfZESzn",
        "S6Fqe6HpESzp",
        "UifGRpFGESzr",
        "cGEJDRMaESzt",
        "yuTWeJqRESzu",
        "C8CzfwEMESzw",
        "4qPwdaPPESzz",
        "vZvYia6tESz1",
        "17Zgxp__ESz2",
        "j0uSEPb8ESz5",
        "8Tj72sgVESz5",
        "wlsD2YXrESz9",
        "cFIR48o9ESz-",
        "PPa4R6GRES0A",
        "SFKPIxe5ES0B",
        "K0s-slM-ES0D",
        "rOX5dVTKES0E",
        "bs8JbA-aES0G",
        "eQ7ymPYFES0G",
        "YkFBH0NwES0I",
        "u6jINT5WES0J",
        "B124UQcCES0L",
        "IfPwZlCtES0M",
        "sIU8zETxES0N",
        "z1Ltf8TuES0Q",
        "lTV9mbGOES0R",
        "1y76kzwvES0T",
        "8rK26AnLES0T",
        "Q5bF_cATES0U",
        "xR3WqzSFES0W",
        "JJYREvPnES0Y",
        "MfJOLJhFES0Z",
        "DHQhet12ES0b",
        "hK9OJn5WES0c",
        "ZHOLKFM5ES0g",
        "SeeKPgTLES0h",
        "dVuAQjO0ES0i",
        "pn7T_c_gES0j",
        "285qanIgES0k"
      ],
      "include_colab_link": true
    },
    "kernelspec": {
      "display_name": "Python 2",
      "language": "python",
      "name": "python2"
    }
  },
  "cells": [
    {
      "cell_type": "markdown",
      "metadata": {
        "id": "view-in-github",
        "colab_type": "text"
      },
      "source": [
        "[View in Colaboratory](https://colab.research.google.com/github/kurikei/google-colab-sandbox/blob/master/website/github.com/rougier/numpy-100/100_Numpy_exercises.ipynb)"
      ]
    },
    {
      "metadata": {
        "id": "PiZHaNcgESw2",
        "colab_type": "text"
      },
      "cell_type": "markdown",
      "source": [
        "# 100 numpy exercises\n",
        "\n",
        "This is a collection of exercises that have been collected in the numpy mailing list, on stack overflow and in the numpy documentation. The goal of this collection is to offer a quick reference for both old and new users but also to provide a set of exercises for those who teach.\n",
        "\n",
        "\n",
        "If you find an error or think you've a better way to solve some of them, feel free to open an issue at <https://github.com/rougier/numpy-100>"
      ]
    },
    {
      "metadata": {
        "id": "ikAIT-HBESw3",
        "colab_type": "text"
      },
      "cell_type": "markdown",
      "source": [
        "#### 1. Import the numpy package under the name `np` (★☆☆)"
      ]
    },
    {
      "metadata": {
        "id": "mTf6NCI0ESw4",
        "colab_type": "code",
        "colab": {}
      },
      "cell_type": "code",
      "source": [
        "import numpy as np"
      ],
      "execution_count": 0,
      "outputs": []
    },
    {
      "metadata": {
        "id": "87_IYYTmESw8",
        "colab_type": "text"
      },
      "cell_type": "markdown",
      "source": [
        "#### 2. Print the numpy version and the configuration (★☆☆)"
      ]
    },
    {
      "metadata": {
        "id": "r0z8T624ESw8",
        "colab_type": "code",
        "colab": {
          "base_uri": "https://localhost:8080/",
          "height": 476
        },
        "outputId": "0968b188-0d03-4cf7-ca9e-63cdb3e71f1e"
      },
      "cell_type": "code",
      "source": [
        "print(np.__version__)\n",
        "np.show_config() # need ()"
      ],
      "execution_count": 6,
      "outputs": [
        {
          "output_type": "stream",
          "text": [
            "1.14.5\n",
            "lapack_opt_info:\n",
            "    libraries = ['openblas', 'openblas']\n",
            "    library_dirs = ['/usr/local/lib']\n",
            "    define_macros = [('HAVE_CBLAS', None)]\n",
            "    language = c\n",
            "blas_opt_info:\n",
            "    libraries = ['openblas', 'openblas']\n",
            "    library_dirs = ['/usr/local/lib']\n",
            "    define_macros = [('HAVE_CBLAS', None)]\n",
            "    language = c\n",
            "openblas_info:\n",
            "    libraries = ['openblas', 'openblas']\n",
            "    library_dirs = ['/usr/local/lib']\n",
            "    define_macros = [('HAVE_CBLAS', None)]\n",
            "    language = c\n",
            "blis_info:\n",
            "  NOT AVAILABLE\n",
            "openblas_lapack_info:\n",
            "    libraries = ['openblas', 'openblas']\n",
            "    library_dirs = ['/usr/local/lib']\n",
            "    define_macros = [('HAVE_CBLAS', None)]\n",
            "    language = c\n",
            "lapack_mkl_info:\n",
            "  NOT AVAILABLE\n",
            "blas_mkl_info:\n",
            "  NOT AVAILABLE\n"
          ],
          "name": "stdout"
        }
      ]
    },
    {
      "metadata": {
        "id": "HP8w7rZhESw-",
        "colab_type": "text"
      },
      "cell_type": "markdown",
      "source": [
        "#### 3. Create a null vector of size 10 (★☆☆)"
      ]
    },
    {
      "metadata": {
        "id": "tSqOZYIbESxA",
        "colab_type": "code",
        "colab": {
          "base_uri": "https://localhost:8080/",
          "height": 34
        },
        "outputId": "6e2664db-26fd-4ebb-cd05-6c8c026dd3b2"
      },
      "cell_type": "code",
      "source": [
        "np.zeros(10)"
      ],
      "execution_count": 9,
      "outputs": [
        {
          "output_type": "execute_result",
          "data": {
            "text/plain": [
              "array([0., 0., 0., 0., 0., 0., 0., 0., 0., 0.])"
            ]
          },
          "metadata": {
            "tags": []
          },
          "execution_count": 9
        }
      ]
    },
    {
      "metadata": {
        "id": "xilc5J_4ESxB",
        "colab_type": "text"
      },
      "cell_type": "markdown",
      "source": [
        "#### 4.  How to find the memory size of any array (★☆☆)"
      ]
    },
    {
      "metadata": {
        "id": "ebpTan8yESxC",
        "colab_type": "code",
        "colab": {
          "base_uri": "https://localhost:8080/",
          "height": 238
        },
        "outputId": "f5873f2f-bdbc-4786-cd10-e78ea0949baf"
      },
      "cell_type": "code",
      "source": [
        "array_1d = np.zeros(10)\n",
        "print(array_1d)\n",
        "print(\"%d bytes\" % (array_1d.itemsize * array_1d.size))\n",
        "\n",
        "array_2d = np.zeros((10,10))\n",
        "print(array_2d)\n",
        "print(\"%d bytes\" % (array_2d.itemsize * array_2d.size))"
      ],
      "execution_count": 20,
      "outputs": [
        {
          "output_type": "stream",
          "text": [
            "[0. 0. 0. 0. 0. 0. 0. 0. 0. 0.]\n",
            "80 bytes\n",
            "[[0. 0. 0. 0. 0. 0. 0. 0. 0. 0.]\n",
            " [0. 0. 0. 0. 0. 0. 0. 0. 0. 0.]\n",
            " [0. 0. 0. 0. 0. 0. 0. 0. 0. 0.]\n",
            " [0. 0. 0. 0. 0. 0. 0. 0. 0. 0.]\n",
            " [0. 0. 0. 0. 0. 0. 0. 0. 0. 0.]\n",
            " [0. 0. 0. 0. 0. 0. 0. 0. 0. 0.]\n",
            " [0. 0. 0. 0. 0. 0. 0. 0. 0. 0.]\n",
            " [0. 0. 0. 0. 0. 0. 0. 0. 0. 0.]\n",
            " [0. 0. 0. 0. 0. 0. 0. 0. 0. 0.]\n",
            " [0. 0. 0. 0. 0. 0. 0. 0. 0. 0.]]\n",
            "800 bytes\n"
          ],
          "name": "stdout"
        }
      ]
    },
    {
      "metadata": {
        "id": "RlkWogHVESxF",
        "colab_type": "text"
      },
      "cell_type": "markdown",
      "source": [
        "#### 5.  How to get the documentation of the numpy add function from the command line? (★☆☆)"
      ]
    },
    {
      "metadata": {
        "id": "k3_j6_YpESxF",
        "colab_type": "code",
        "colab": {
          "base_uri": "https://localhost:8080/",
          "height": 34
        },
        "outputId": "7ea862cd-6a2e-4e98-daeb-e5870b183004"
      },
      "cell_type": "code",
      "source": [
        ""
      ],
      "execution_count": 23,
      "outputs": [
        {
          "output_type": "stream",
          "text": [
            "ERROR:root:File `u'`which.py'` not found.\n"
          ],
          "name": "stderr"
        }
      ]
    },
    {
      "metadata": {
        "id": "DRT88JtTESxI",
        "colab_type": "text"
      },
      "cell_type": "markdown",
      "source": [
        "#### 6.  Create a null vector of size 10 but the fifth value which is 1 (★☆☆)"
      ]
    },
    {
      "metadata": {
        "id": "l7vyIjptESxJ",
        "colab_type": "code",
        "colab": {
          "base_uri": "https://localhost:8080/",
          "height": 34
        },
        "outputId": "50519fc1-5505-4efb-d8e9-edb9718c317b"
      },
      "cell_type": "code",
      "source": [
        "ndarray = np.zeros(10)\n",
        "ndarray[4] = 1\n",
        "print(ndarray)"
      ],
      "execution_count": 24,
      "outputs": [
        {
          "output_type": "stream",
          "text": [
            "[0. 0. 0. 0. 1. 0. 0. 0. 0. 0.]\n"
          ],
          "name": "stdout"
        }
      ]
    },
    {
      "metadata": {
        "id": "6YYpaodDESxK",
        "colab_type": "text"
      },
      "cell_type": "markdown",
      "source": [
        "#### 7.  Create a vector with values ranging from 10 to 49 (★☆☆)"
      ]
    },
    {
      "metadata": {
        "id": "viMXu7_EESxL",
        "colab_type": "code",
        "colab": {
          "base_uri": "https://localhost:8080/",
          "height": 51
        },
        "outputId": "b3dbdc89-d11c-4630-f1c0-f35a128a30b8"
      },
      "cell_type": "code",
      "source": [
        "ndarray = np.arange(10, 50)\n",
        "print(ndarray)"
      ],
      "execution_count": 60,
      "outputs": [
        {
          "output_type": "stream",
          "text": [
            "[10 11 12 13 14 15 16 17 18 19 20 21 22 23 24 25 26 27 28 29 30 31 32 33\n",
            " 34 35 36 37 38 39 40 41 42 43 44 45 46 47 48 49]\n"
          ],
          "name": "stdout"
        }
      ]
    },
    {
      "metadata": {
        "id": "j2PYqwRIESxO",
        "colab_type": "text"
      },
      "cell_type": "markdown",
      "source": [
        "#### 8.  Reverse a vector (first element becomes last) (★☆☆)"
      ]
    },
    {
      "metadata": {
        "id": "rhoE52KoESxP",
        "colab_type": "code",
        "colab": {
          "base_uri": "https://localhost:8080/",
          "height": 51
        },
        "outputId": "540f16bf-f383-4418-d09a-87a720108dc6"
      },
      "cell_type": "code",
      "source": [
        "ndarray = np.arange(1, 11)\n",
        "print(ndarray)\n",
        "\n",
        "reverse_ndarray = ndarray[::-1]\n",
        "print(reverse_ndarray)"
      ],
      "execution_count": 33,
      "outputs": [
        {
          "output_type": "stream",
          "text": [
            "[ 1  2  3  4  5  6  7  8  9 10]\n",
            "[10  9  8  7  6  5  4  3  2  1]\n"
          ],
          "name": "stdout"
        }
      ]
    },
    {
      "metadata": {
        "id": "R_2cW8d7ESxQ",
        "colab_type": "text"
      },
      "cell_type": "markdown",
      "source": [
        "#### 9.  Create a 3x3 matrix with values ranging from 0 to 8 (★☆☆)"
      ]
    },
    {
      "metadata": {
        "id": "JyHd5QVYESxR",
        "colab_type": "code",
        "colab": {
          "base_uri": "https://localhost:8080/",
          "height": 119
        },
        "outputId": "4ee4bad9-2a79-49bf-955e-c3e4230630bc"
      },
      "cell_type": "code",
      "source": [
        "ndarray = np.arange(0, 9)\n",
        "matrix_3x3 = np.reshape(ndarray, (3, 3))\n",
        "print(matrix_3x3)\n",
        "\n",
        "another_matrix_3x3 = np.arange(9).reshape(3, 3)\n",
        "print(another_matrix_3x3)"
      ],
      "execution_count": 63,
      "outputs": [
        {
          "output_type": "stream",
          "text": [
            "[[0 1 2]\n",
            " [3 4 5]\n",
            " [6 7 8]]\n",
            "[[0 1 2]\n",
            " [3 4 5]\n",
            " [6 7 8]]\n"
          ],
          "name": "stdout"
        }
      ]
    },
    {
      "metadata": {
        "id": "T9HyIAMIESxW",
        "colab_type": "text"
      },
      "cell_type": "markdown",
      "source": [
        "#### 10. Find indices of non-zero elements from \\[1,2,0,0,4,0\\] (★☆☆)"
      ]
    },
    {
      "metadata": {
        "id": "D0jLyFl3ESxX",
        "colab_type": "code",
        "colab": {
          "base_uri": "https://localhost:8080/",
          "height": 34
        },
        "outputId": "4651ce21-cc26-46c9-c955-c9b4607aed79"
      },
      "cell_type": "code",
      "source": [
        "src_array = np.array([1,2,0,0,4,0])\n",
        "zero_indices = np.nonzero(src_array)\n",
        "print(zero_indices)"
      ],
      "execution_count": 64,
      "outputs": [
        {
          "output_type": "stream",
          "text": [
            "(array([0, 1, 4]),)\n"
          ],
          "name": "stdout"
        }
      ]
    },
    {
      "metadata": {
        "id": "TfIfmSAWESxY",
        "colab_type": "text"
      },
      "cell_type": "markdown",
      "source": [
        "#### 11. Create a 3x3 identity matrix (★☆☆)"
      ]
    },
    {
      "metadata": {
        "id": "klRWjlBGESxZ",
        "colab_type": "code",
        "colab": {
          "base_uri": "https://localhost:8080/",
          "height": 68
        },
        "outputId": "e9a5054f-e975-4e2e-ae88-1f6d4f97177e"
      },
      "cell_type": "code",
      "source": [
        "matrix_3x3 = np.eye(3)\n",
        "print(matrix_3x3)"
      ],
      "execution_count": 65,
      "outputs": [
        {
          "output_type": "stream",
          "text": [
            "[[1. 0. 0.]\n",
            " [0. 1. 0.]\n",
            " [0. 0. 1.]]\n"
          ],
          "name": "stdout"
        }
      ]
    },
    {
      "metadata": {
        "id": "E8CnslRgESxc",
        "colab_type": "text"
      },
      "cell_type": "markdown",
      "source": [
        "#### 12. Create a 3x3x3 array with random values (★☆☆)"
      ]
    },
    {
      "metadata": {
        "id": "HrQLlEssESxd",
        "colab_type": "code",
        "colab": {
          "base_uri": "https://localhost:8080/",
          "height": 204
        },
        "outputId": "265df71d-a550-41a7-b3f0-9056f28eb5b1"
      },
      "cell_type": "code",
      "source": [
        "matrix_3x3x3 = np.random.random((3, 3, 3))\n",
        "print(matrix_3x3x3)"
      ],
      "execution_count": 66,
      "outputs": [
        {
          "output_type": "stream",
          "text": [
            "[[[0.8267448  0.81013545 0.84167809]\n",
            "  [0.73703901 0.08216136 0.11856995]\n",
            "  [0.8456487  0.93332717 0.47685408]]\n",
            "\n",
            " [[0.63841122 0.63187385 0.50247846]\n",
            "  [0.78970882 0.72007328 0.68471875]\n",
            "  [0.58964819 0.31625361 0.92569722]]\n",
            "\n",
            " [[0.09324577 0.68860905 0.24548706]\n",
            "  [0.97895456 0.7470034  0.97069672]\n",
            "  [0.93640537 0.65512463 0.58288581]]]\n"
          ],
          "name": "stdout"
        }
      ]
    },
    {
      "metadata": {
        "id": "l4NokMIwESxh",
        "colab_type": "text"
      },
      "cell_type": "markdown",
      "source": [
        "#### 13. Create a 10x10 array with random values and find the minimum and maximum values (★☆☆)"
      ]
    },
    {
      "metadata": {
        "id": "Xk5Mo24sESxi",
        "colab_type": "code",
        "colab": {
          "base_uri": "https://localhost:8080/",
          "height": 425
        },
        "outputId": "5d2639f2-9a4a-4bce-90d4-2f13350493a3"
      },
      "cell_type": "code",
      "source": [
        "src_array = np.random.random((10, 10))\n",
        "print(src_array)\n",
        "print(np.min(src_array))\n",
        "print(np.max(src_array))\n",
        "\n",
        "# another answer\n",
        "print(src_array.min())\n",
        "print(src_array.max())"
      ],
      "execution_count": 68,
      "outputs": [
        {
          "output_type": "stream",
          "text": [
            "[[0.61132628 0.41449027 0.44187862 0.60040613 0.80221446 0.441484\n",
            "  0.8682671  0.39808313 0.51935954 0.10009292]\n",
            " [0.86251733 0.87251331 0.01963874 0.68365018 0.64244504 0.09460722\n",
            "  0.36018857 0.40386353 0.19004534 0.14870264]\n",
            " [0.86542472 0.04807106 0.1757919  0.18730479 0.61953584 0.97610616\n",
            "  0.51667866 0.50771826 0.66920379 0.44583031]\n",
            " [0.93937301 0.02638193 0.12836161 0.15889538 0.30660798 0.08545512\n",
            "  0.10434639 0.99294763 0.35729653 0.01547994]\n",
            " [0.46123813 0.70074164 0.89103228 0.60373192 0.98259274 0.06594001\n",
            "  0.45821737 0.40039594 0.16024908 0.83364872]\n",
            " [0.85813639 0.53958291 0.62228744 0.4842655  0.73910567 0.07507988\n",
            "  0.40400069 0.57849542 0.61032868 0.73233624]\n",
            " [0.59712935 0.18885938 0.37758934 0.9690711  0.66013368 0.01544451\n",
            "  0.87974325 0.0132901  0.21184002 0.62527111]\n",
            " [0.93441895 0.91954156 0.46917445 0.64365439 0.10972097 0.14540974\n",
            "  0.27894051 0.54273874 0.36674678 0.22280749]\n",
            " [0.55776214 0.1024437  0.47448911 0.58635874 0.59122691 0.58338922\n",
            "  0.05969133 0.09974986 0.27191155 0.06595616]\n",
            " [0.63343055 0.59549375 0.33823787 0.64594503 0.52709033 0.3956812\n",
            "  0.31367986 0.19569237 0.96825887 0.58454131]]\n",
            "0.013290101161892665\n",
            "0.9929476272245616\n",
            "0.013290101161892665\n",
            "0.9929476272245616\n"
          ],
          "name": "stdout"
        }
      ]
    },
    {
      "metadata": {
        "id": "F8bDkmtxESxm",
        "colab_type": "text"
      },
      "cell_type": "markdown",
      "source": [
        "#### 14. Create a random vector of size 30 and find the mean value (★☆☆)"
      ]
    },
    {
      "metadata": {
        "id": "kuFnnHYjESxm",
        "colab_type": "code",
        "colab": {
          "base_uri": "https://localhost:8080/",
          "height": 136
        },
        "outputId": "9b6d2350-09cc-4149-baf9-2e1c65bbfe91"
      },
      "cell_type": "code",
      "source": [
        "src_array = np.random.random(30)\n",
        "print(src_array)\n",
        "\n",
        "print(np.mean(src_array))\n",
        "\n",
        "# another answer\n",
        "print(src_array.mean())"
      ],
      "execution_count": 72,
      "outputs": [
        {
          "output_type": "stream",
          "text": [
            "[0.57025386 0.04277437 0.66262992 0.9708439  0.38067754 0.55928715\n",
            " 0.25246034 0.14129069 0.5659464  0.00767915 0.38866206 0.02748391\n",
            " 0.76835166 0.47867009 0.86608228 0.09429721 0.76208428 0.10224372\n",
            " 0.63303454 0.18247747 0.1916161  0.07495727 0.35806548 0.16432479\n",
            " 0.16542108 0.6952303  0.68149951 0.62275009 0.27736945 0.7485391 ]\n",
            "0.4145667909381549\n",
            "0.4145667909381549\n"
          ],
          "name": "stdout"
        }
      ]
    },
    {
      "metadata": {
        "id": "UjqntgCPESxo",
        "colab_type": "text"
      },
      "cell_type": "markdown",
      "source": [
        "#### 15. Create a 2d array with 1 on the border and 0 inside (★☆☆)"
      ]
    },
    {
      "metadata": {
        "id": "5MwWM_IDESxo",
        "colab_type": "code",
        "colab": {
          "base_uri": "https://localhost:8080/",
          "height": 153
        },
        "outputId": "aec33d20-5907-47d9-8026-12a0ef6d6373"
      },
      "cell_type": "code",
      "source": [
        "array_2d = np.ones((4,4))\n",
        "print(array_2d)\n",
        "\n",
        "array_2d[1:-1,1:-1] = 0\n",
        "print(array_2d)"
      ],
      "execution_count": 80,
      "outputs": [
        {
          "output_type": "stream",
          "text": [
            "[[1. 1. 1. 1.]\n",
            " [1. 1. 1. 1.]\n",
            " [1. 1. 1. 1.]\n",
            " [1. 1. 1. 1.]]\n",
            "[[1. 1. 1. 1.]\n",
            " [1. 0. 0. 1.]\n",
            " [1. 0. 0. 1.]\n",
            " [1. 1. 1. 1.]]\n"
          ],
          "name": "stdout"
        }
      ]
    },
    {
      "metadata": {
        "id": "ebgycz22ESxr",
        "colab_type": "text"
      },
      "cell_type": "markdown",
      "source": [
        "#### 16. How to add a border (filled with 0's) around an existing array? (★☆☆)"
      ]
    },
    {
      "metadata": {
        "id": "RDt2kePDESxs",
        "colab_type": "code",
        "colab": {
          "base_uri": "https://localhost:8080/",
          "height": 119
        },
        "outputId": "b3f90626-d326-4f55-adfe-e2374251115e"
      },
      "cell_type": "code",
      "source": [
        "array_2x2 = np.ones((2,2))\n",
        "print(array_2x2)\n",
        "\n",
        "array_3x3 = np.pad(array_2x2, pad_width=1, mode='constant', constant_values=0)\n",
        "print(array_3x3)"
      ],
      "execution_count": 84,
      "outputs": [
        {
          "output_type": "stream",
          "text": [
            "[[1. 1.]\n",
            " [1. 1.]]\n",
            "[[0. 0. 0. 0.]\n",
            " [0. 1. 1. 0.]\n",
            " [0. 1. 1. 0.]\n",
            " [0. 0. 0. 0.]]\n"
          ],
          "name": "stdout"
        }
      ]
    },
    {
      "metadata": {
        "id": "b9Di_kZ8ESxu",
        "colab_type": "text"
      },
      "cell_type": "markdown",
      "source": [
        "#### 17. What is the result of the following expression? (★☆☆)"
      ]
    },
    {
      "metadata": {
        "id": "dj3__LapESxu",
        "colab_type": "text"
      },
      "cell_type": "markdown",
      "source": [
        "```python\n",
        "0 * np.nan\n",
        "np.nan == np.nan\n",
        "np.inf > np.nan\n",
        "np.nan - np.nan\n",
        "0.3 == 3 * 0.1\n",
        "```"
      ]
    },
    {
      "metadata": {
        "id": "zN0Y7g6zESxv",
        "colab_type": "code",
        "colab": {
          "base_uri": "https://localhost:8080/",
          "height": 578
        },
        "outputId": "5c07e8eb-043f-4f8d-b07f-62f927f80aa1"
      },
      "cell_type": "code",
      "source": [
        "print(0 * np.nan) # nan\n",
        "print(np.nan == np.nan) # False\n",
        "print(np.inf > np.nan) # False\n",
        "print(np.nan - np.nan) # nan\n",
        "print(0.3 == 3 * 0.1) # False\n",
        "\n",
        "# nan calc result\n",
        "print('=== nan calc result ===')\n",
        "print(np.nan + 2) # nan\n",
        "print(np.nan - 2) # nan\n",
        "print(np.nan * 2) # nan\n",
        "print(np.nan / 2) # nan\n",
        "print(np.nan % 2) # nan\n",
        "print(np.nan // 2) # nan\n",
        "print(np.nan ** 2) # nan\n",
        "print(np.nan + np.nan) # nan\n",
        "print(np.nan - np.nan) # nan\n",
        "print(np.nan * np.nan) # nan\n",
        "print(np.nan / np.nan) # nan\n",
        "print(np.nan % np.nan) # nan\n",
        "print(np.nan // np.nan) # nan\n",
        "print(np.nan ** np.nan) # nan\n",
        "print(np.nan > 0) # False\n",
        "print(np.nan == 0) # False\n",
        "print(np.nan < 0) # False\n",
        "print(np.nan == np.nan) # False\n",
        "\n",
        "# inf calc result\n",
        "print('=== inf calc result ===')\n",
        "print(np.inf + 2) # inf\n",
        "print(np.inf - 2) # inf\n",
        "print(np.inf * 2) # inf\n",
        "print(np.inf / 2) # inf\n",
        "print(np.inf % 2) # nan\n",
        "print(np.inf // 2) # nan\n",
        "print(np.inf - np.inf) # nan\n",
        "print(np.inf / np.inf) # nan"
      ],
      "execution_count": 98,
      "outputs": [
        {
          "output_type": "stream",
          "text": [
            "nan\n",
            "False\n",
            "False\n",
            "nan\n",
            "False\n",
            "=== nan calc result ===\n",
            "nan\n",
            "nan\n",
            "nan\n",
            "nan\n",
            "nan\n",
            "nan\n",
            "nan\n",
            "nan\n",
            "nan\n",
            "nan\n",
            "nan\n",
            "nan\n",
            "nan\n",
            "nan\n",
            "False\n",
            "False\n",
            "False\n",
            "False\n",
            "=== inf calc result ===\n",
            "inf\n",
            "inf\n",
            "inf\n",
            "inf\n",
            "nan\n",
            "nan\n",
            "nan\n",
            "nan\n"
          ],
          "name": "stdout"
        }
      ]
    },
    {
      "metadata": {
        "id": "gohefKplESxx",
        "colab_type": "text"
      },
      "cell_type": "markdown",
      "source": [
        "#### 18. Create a 5x5 matrix with values 1,2,3,4 just below the diagonal (★☆☆)"
      ]
    },
    {
      "metadata": {
        "id": "ydSJMRXJESxx",
        "colab_type": "code",
        "colab": {}
      },
      "cell_type": "code",
      "source": [
        ""
      ],
      "execution_count": 0,
      "outputs": []
    },
    {
      "metadata": {
        "id": "3fulkr20ESxz",
        "colab_type": "text"
      },
      "cell_type": "markdown",
      "source": [
        "#### 19. Create a 8x8 matrix and fill it with a checkerboard pattern (★☆☆)"
      ]
    },
    {
      "metadata": {
        "id": "enVkpXuCESx0",
        "colab_type": "code",
        "colab": {}
      },
      "cell_type": "code",
      "source": [
        ""
      ],
      "execution_count": 0,
      "outputs": []
    },
    {
      "metadata": {
        "id": "gVDJER9FESx2",
        "colab_type": "text"
      },
      "cell_type": "markdown",
      "source": [
        "#### 20. Consider a (6,7,8) shape array, what is the index (x,y,z) of the 100th element?"
      ]
    },
    {
      "metadata": {
        "id": "uwT-qfvmESx2",
        "colab_type": "code",
        "colab": {}
      },
      "cell_type": "code",
      "source": [
        ""
      ],
      "execution_count": 0,
      "outputs": []
    },
    {
      "metadata": {
        "id": "qmVedwv1ESx4",
        "colab_type": "text"
      },
      "cell_type": "markdown",
      "source": [
        "#### 21. Create a checkerboard 8x8 matrix using the tile function (★☆☆)"
      ]
    },
    {
      "metadata": {
        "id": "e4RSBuP8ESx5",
        "colab_type": "code",
        "colab": {}
      },
      "cell_type": "code",
      "source": [
        ""
      ],
      "execution_count": 0,
      "outputs": []
    },
    {
      "metadata": {
        "id": "2sLtK17vESx7",
        "colab_type": "text"
      },
      "cell_type": "markdown",
      "source": [
        "#### 22. Normalize a 5x5 random matrix (★☆☆)"
      ]
    },
    {
      "metadata": {
        "id": "NFJ1_iuMESx8",
        "colab_type": "code",
        "colab": {}
      },
      "cell_type": "code",
      "source": [
        ""
      ],
      "execution_count": 0,
      "outputs": []
    },
    {
      "metadata": {
        "id": "0BmGHXhDESx-",
        "colab_type": "text"
      },
      "cell_type": "markdown",
      "source": [
        "#### 23. Create a custom dtype that describes a color as four unsigned bytes (RGBA) (★☆☆)"
      ]
    },
    {
      "metadata": {
        "id": "grNMhrFXESx_",
        "colab_type": "code",
        "colab": {},
        "collapsed": true
      },
      "cell_type": "code",
      "source": [
        ""
      ],
      "execution_count": 0,
      "outputs": []
    },
    {
      "metadata": {
        "id": "HgWBtbMFESyB",
        "colab_type": "text"
      },
      "cell_type": "markdown",
      "source": [
        "#### 24. Multiply a 5x3 matrix by a 3x2 matrix (real matrix product) (★☆☆)"
      ]
    },
    {
      "metadata": {
        "id": "elUD9RadESyB",
        "colab_type": "code",
        "colab": {}
      },
      "cell_type": "code",
      "source": [
        ""
      ],
      "execution_count": 0,
      "outputs": []
    },
    {
      "metadata": {
        "id": "SjXVL3xgESyD",
        "colab_type": "text"
      },
      "cell_type": "markdown",
      "source": [
        "#### 25. Given a 1D array, negate all elements which are between 3 and 8, in place. (★☆☆)"
      ]
    },
    {
      "metadata": {
        "id": "BAhGWAr7ESyE",
        "colab_type": "code",
        "colab": {}
      },
      "cell_type": "code",
      "source": [
        ""
      ],
      "execution_count": 0,
      "outputs": []
    },
    {
      "metadata": {
        "id": "3Ngh3slaESyJ",
        "colab_type": "text"
      },
      "cell_type": "markdown",
      "source": [
        "#### 26. What is the output of the following script? (★☆☆)"
      ]
    },
    {
      "metadata": {
        "id": "Id5UlIStESyJ",
        "colab_type": "text"
      },
      "cell_type": "markdown",
      "source": [
        "```python\n",
        "# Author: Jake VanderPlas\n",
        "\n",
        "print(sum(range(5),-1))\n",
        "from numpy import *\n",
        "print(sum(range(5),-1))\n",
        "```"
      ]
    },
    {
      "metadata": {
        "id": "bArUPlhsESyJ",
        "colab_type": "code",
        "colab": {}
      },
      "cell_type": "code",
      "source": [
        ""
      ],
      "execution_count": 0,
      "outputs": []
    },
    {
      "metadata": {
        "id": "3YU9f9oYESyL",
        "colab_type": "text"
      },
      "cell_type": "markdown",
      "source": [
        "#### 27. Consider an integer vector Z, which of these expressions are legal? (★☆☆)"
      ]
    },
    {
      "metadata": {
        "id": "XX3LuKyUESyN",
        "colab_type": "text"
      },
      "cell_type": "markdown",
      "source": [
        "```python\n",
        "Z**Z\n",
        "2 << Z >> 2\n",
        "Z <- Z\n",
        "1j*Z\n",
        "Z/1/1\n",
        "Z<Z>Z\n",
        "```"
      ]
    },
    {
      "metadata": {
        "id": "i6PV3SDFESyN",
        "colab_type": "code",
        "colab": {}
      },
      "cell_type": "code",
      "source": [
        ""
      ],
      "execution_count": 0,
      "outputs": []
    },
    {
      "metadata": {
        "id": "Yws6sLMlESyP",
        "colab_type": "text"
      },
      "cell_type": "markdown",
      "source": [
        "#### 28. What are the result of the following expressions?"
      ]
    },
    {
      "metadata": {
        "id": "5vlnzTpyESyQ",
        "colab_type": "text"
      },
      "cell_type": "markdown",
      "source": [
        "```python\n",
        "np.array(0) / np.array(0)\n",
        "np.array(0) // np.array(0)\n",
        "np.array([np.nan]).astype(int).astype(float)\n",
        "```"
      ]
    },
    {
      "metadata": {
        "id": "MKy8E7kWESyR",
        "colab_type": "code",
        "colab": {}
      },
      "cell_type": "code",
      "source": [
        ""
      ],
      "execution_count": 0,
      "outputs": []
    },
    {
      "metadata": {
        "id": "QVspzk1HESyT",
        "colab_type": "text"
      },
      "cell_type": "markdown",
      "source": [
        "#### 29. How to round away from zero a float array ? (★☆☆)"
      ]
    },
    {
      "metadata": {
        "id": "dQV-F1AQESyT",
        "colab_type": "code",
        "colab": {}
      },
      "cell_type": "code",
      "source": [
        ""
      ],
      "execution_count": 0,
      "outputs": []
    },
    {
      "metadata": {
        "id": "TP6wfg4NESyV",
        "colab_type": "text"
      },
      "cell_type": "markdown",
      "source": [
        "#### 30. How to find common values between two arrays? (★☆☆)"
      ]
    },
    {
      "metadata": {
        "id": "IW5T1dYoESyV",
        "colab_type": "code",
        "colab": {}
      },
      "cell_type": "code",
      "source": [
        ""
      ],
      "execution_count": 0,
      "outputs": []
    },
    {
      "metadata": {
        "id": "KjXsKP-BESyb",
        "colab_type": "text"
      },
      "cell_type": "markdown",
      "source": [
        "#### 31. How to ignore all numpy warnings (not recommended)? (★☆☆)"
      ]
    },
    {
      "metadata": {
        "id": "cMsCTMNYESyc",
        "colab_type": "code",
        "colab": {}
      },
      "cell_type": "code",
      "source": [
        ""
      ],
      "execution_count": 0,
      "outputs": []
    },
    {
      "metadata": {
        "id": "zT2noqUuESye",
        "colab_type": "text"
      },
      "cell_type": "markdown",
      "source": [
        "#### 32. Is the following expressions true? (★☆☆)"
      ]
    },
    {
      "metadata": {
        "id": "BTtvs63CESyf",
        "colab_type": "text"
      },
      "cell_type": "markdown",
      "source": [
        "```python\n",
        "np.sqrt(-1) == np.emath.sqrt(-1)\n",
        "```"
      ]
    },
    {
      "metadata": {
        "id": "NEMugrafESyg",
        "colab_type": "code",
        "colab": {}
      },
      "cell_type": "code",
      "source": [
        ""
      ],
      "execution_count": 0,
      "outputs": []
    },
    {
      "metadata": {
        "id": "guGTsLhaESyh",
        "colab_type": "text"
      },
      "cell_type": "markdown",
      "source": [
        "#### 33. How to get the dates of yesterday, today and tomorrow? (★☆☆)"
      ]
    },
    {
      "metadata": {
        "id": "SCR78AUmESyi",
        "colab_type": "code",
        "colab": {},
        "collapsed": true
      },
      "cell_type": "code",
      "source": [
        ""
      ],
      "execution_count": 0,
      "outputs": []
    },
    {
      "metadata": {
        "id": "B8weKz0DESyn",
        "colab_type": "text"
      },
      "cell_type": "markdown",
      "source": [
        "#### 34. How to get all the dates corresponding to the month of July 2016? (★★☆)"
      ]
    },
    {
      "metadata": {
        "id": "-fl8W6lrESyo",
        "colab_type": "code",
        "colab": {}
      },
      "cell_type": "code",
      "source": [
        ""
      ],
      "execution_count": 0,
      "outputs": []
    },
    {
      "metadata": {
        "id": "05a6HJrmESyp",
        "colab_type": "text"
      },
      "cell_type": "markdown",
      "source": [
        "#### 35. How to compute ((A+B)\\*(-A/2)) in place (without copy)? (★★☆)"
      ]
    },
    {
      "metadata": {
        "id": "k4G8DdoIESyq",
        "colab_type": "code",
        "colab": {}
      },
      "cell_type": "code",
      "source": [
        ""
      ],
      "execution_count": 0,
      "outputs": []
    },
    {
      "metadata": {
        "id": "uI5g-zNEESys",
        "colab_type": "text"
      },
      "cell_type": "markdown",
      "source": [
        "#### 36. Extract the integer part of a random array using 5 different methods (★★☆)"
      ]
    },
    {
      "metadata": {
        "id": "3kO1G2ecESyt",
        "colab_type": "code",
        "colab": {}
      },
      "cell_type": "code",
      "source": [
        ""
      ],
      "execution_count": 0,
      "outputs": []
    },
    {
      "metadata": {
        "id": "Nu7vly_1ESyv",
        "colab_type": "text"
      },
      "cell_type": "markdown",
      "source": [
        "#### 37. Create a 5x5 matrix with row values ranging from 0 to 4 (★★☆)"
      ]
    },
    {
      "metadata": {
        "id": "kUvZM-hkESyv",
        "colab_type": "code",
        "colab": {}
      },
      "cell_type": "code",
      "source": [
        ""
      ],
      "execution_count": 0,
      "outputs": []
    },
    {
      "metadata": {
        "id": "3s4n2ha7ESyx",
        "colab_type": "text"
      },
      "cell_type": "markdown",
      "source": [
        "#### 38. Consider a generator function that generates 10 integers and use it to build an array (★☆☆)"
      ]
    },
    {
      "metadata": {
        "id": "8S_vUEeuESyx",
        "colab_type": "code",
        "colab": {}
      },
      "cell_type": "code",
      "source": [
        ""
      ],
      "execution_count": 0,
      "outputs": []
    },
    {
      "metadata": {
        "id": "KJHWOcJAESyy",
        "colab_type": "text"
      },
      "cell_type": "markdown",
      "source": [
        "#### 39. Create a vector of size 10 with values ranging from 0 to 1, both excluded (★★☆)"
      ]
    },
    {
      "metadata": {
        "id": "iVKS-XtCESyz",
        "colab_type": "code",
        "colab": {}
      },
      "cell_type": "code",
      "source": [
        ""
      ],
      "execution_count": 0,
      "outputs": []
    },
    {
      "metadata": {
        "id": "G3l4VhplESy1",
        "colab_type": "text"
      },
      "cell_type": "markdown",
      "source": [
        "#### 40. Create a random vector of size 10 and sort it (★★☆)"
      ]
    },
    {
      "metadata": {
        "id": "O2P_cgCiESy1",
        "colab_type": "code",
        "colab": {}
      },
      "cell_type": "code",
      "source": [
        ""
      ],
      "execution_count": 0,
      "outputs": []
    },
    {
      "metadata": {
        "id": "wtDgyVKFESy5",
        "colab_type": "text"
      },
      "cell_type": "markdown",
      "source": [
        "#### 41. How to sum a small array faster than np.sum? (★★☆)"
      ]
    },
    {
      "metadata": {
        "id": "m7UlwqVAESy5",
        "colab_type": "code",
        "colab": {}
      },
      "cell_type": "code",
      "source": [
        ""
      ],
      "execution_count": 0,
      "outputs": []
    },
    {
      "metadata": {
        "id": "Ng8UIvbnESy7",
        "colab_type": "text"
      },
      "cell_type": "markdown",
      "source": [
        "#### 42. Consider two random array A and B, check if they are equal (★★☆)"
      ]
    },
    {
      "metadata": {
        "id": "KRrsrse-ESy7",
        "colab_type": "code",
        "colab": {}
      },
      "cell_type": "code",
      "source": [
        ""
      ],
      "execution_count": 0,
      "outputs": []
    },
    {
      "metadata": {
        "id": "B4Gct9zFESy9",
        "colab_type": "text"
      },
      "cell_type": "markdown",
      "source": [
        "#### 43. Make an array immutable (read-only) (★★☆)"
      ]
    },
    {
      "metadata": {
        "id": "GvgjkIUqESy-",
        "colab_type": "code",
        "colab": {}
      },
      "cell_type": "code",
      "source": [
        ""
      ],
      "execution_count": 0,
      "outputs": []
    },
    {
      "metadata": {
        "id": "0O19JkZgESy-",
        "colab_type": "text"
      },
      "cell_type": "markdown",
      "source": [
        "#### 44. Consider a random 10x2 matrix representing cartesian coordinates, convert them to polar coordinates (★★☆)"
      ]
    },
    {
      "metadata": {
        "id": "UvcLKODMESy_",
        "colab_type": "code",
        "colab": {}
      },
      "cell_type": "code",
      "source": [
        ""
      ],
      "execution_count": 0,
      "outputs": []
    },
    {
      "metadata": {
        "id": "cU_602FtESzC",
        "colab_type": "text"
      },
      "cell_type": "markdown",
      "source": [
        "#### 45. Create random vector of size 10 and replace the maximum value by 0 (★★☆)"
      ]
    },
    {
      "metadata": {
        "id": "dVJ1SQSGESzC",
        "colab_type": "code",
        "colab": {}
      },
      "cell_type": "code",
      "source": [
        ""
      ],
      "execution_count": 0,
      "outputs": []
    },
    {
      "metadata": {
        "id": "WRFzYymMESzE",
        "colab_type": "text"
      },
      "cell_type": "markdown",
      "source": [
        "#### 46. Create a structured array with `x` and `y` coordinates covering the \\[0,1\\]x\\[0,1\\] area (★★☆)"
      ]
    },
    {
      "metadata": {
        "id": "7ocuAYABESzE",
        "colab_type": "code",
        "colab": {}
      },
      "cell_type": "code",
      "source": [
        ""
      ],
      "execution_count": 0,
      "outputs": []
    },
    {
      "metadata": {
        "id": "F7vXsPA-ESzF",
        "colab_type": "text"
      },
      "cell_type": "markdown",
      "source": [
        "####  47. Given two arrays, X and Y, construct the Cauchy matrix C (Cij =1/(xi - yj))"
      ]
    },
    {
      "metadata": {
        "id": "HQ5LvwOyESzH",
        "colab_type": "code",
        "colab": {}
      },
      "cell_type": "code",
      "source": [
        ""
      ],
      "execution_count": 0,
      "outputs": []
    },
    {
      "metadata": {
        "id": "7VwtPBswESzL",
        "colab_type": "text"
      },
      "cell_type": "markdown",
      "source": [
        "#### 48. Print the minimum and maximum representable value for each numpy scalar type (★★☆)"
      ]
    },
    {
      "metadata": {
        "id": "lMKeuXIbESzL",
        "colab_type": "code",
        "colab": {}
      },
      "cell_type": "code",
      "source": [
        ""
      ],
      "execution_count": 0,
      "outputs": []
    },
    {
      "metadata": {
        "id": "egywrsCvESzM",
        "colab_type": "text"
      },
      "cell_type": "markdown",
      "source": [
        "#### 49. How to print all the values of an array? (★★☆)"
      ]
    },
    {
      "metadata": {
        "id": "QVqw4C0qESzN",
        "colab_type": "code",
        "colab": {}
      },
      "cell_type": "code",
      "source": [
        ""
      ],
      "execution_count": 0,
      "outputs": []
    },
    {
      "metadata": {
        "id": "cWbyccEkESzR",
        "colab_type": "text"
      },
      "cell_type": "markdown",
      "source": [
        "#### 50. How to find the closest value (to a given scalar) in a vector? (★★☆)"
      ]
    },
    {
      "metadata": {
        "id": "wRFieJ2pESzR",
        "colab_type": "code",
        "colab": {}
      },
      "cell_type": "code",
      "source": [
        ""
      ],
      "execution_count": 0,
      "outputs": []
    },
    {
      "metadata": {
        "id": "AX6W6DaIESzS",
        "colab_type": "text"
      },
      "cell_type": "markdown",
      "source": [
        "#### 51. Create a structured array representing a position (x,y) and a color (r,g,b) (★★☆)"
      ]
    },
    {
      "metadata": {
        "id": "N16sOIW7ESzS",
        "colab_type": "code",
        "colab": {}
      },
      "cell_type": "code",
      "source": [
        ""
      ],
      "execution_count": 0,
      "outputs": []
    },
    {
      "metadata": {
        "id": "UtcBqxacESzU",
        "colab_type": "text"
      },
      "cell_type": "markdown",
      "source": [
        "#### 52. Consider a random vector with shape (100,2) representing coordinates, find point by point distances (★★☆)"
      ]
    },
    {
      "metadata": {
        "id": "UNtRQ8SVESzV",
        "colab_type": "code",
        "colab": {}
      },
      "cell_type": "code",
      "source": [
        ""
      ],
      "execution_count": 0,
      "outputs": []
    },
    {
      "metadata": {
        "id": "b5YigTJYESzW",
        "colab_type": "text"
      },
      "cell_type": "markdown",
      "source": [
        "#### 53. How to convert a float (32 bits) array into an integer (32 bits) in place?"
      ]
    },
    {
      "metadata": {
        "id": "d-akfJwOESzW",
        "colab_type": "code",
        "colab": {}
      },
      "cell_type": "code",
      "source": [
        ""
      ],
      "execution_count": 0,
      "outputs": []
    },
    {
      "metadata": {
        "id": "AhDwbPq3ESzX",
        "colab_type": "text"
      },
      "cell_type": "markdown",
      "source": [
        "#### 54. How to read the following file? (★★☆)"
      ]
    },
    {
      "metadata": {
        "id": "lgepXI1TESzY",
        "colab_type": "text"
      },
      "cell_type": "markdown",
      "source": [
        "```\n",
        "1, 2, 3, 4, 5\n",
        "6,  ,  , 7, 8\n",
        " ,  , 9,10,11\n",
        "```"
      ]
    },
    {
      "metadata": {
        "id": "bTDWLAkrESzY",
        "colab_type": "code",
        "colab": {}
      },
      "cell_type": "code",
      "source": [
        ""
      ],
      "execution_count": 0,
      "outputs": []
    },
    {
      "metadata": {
        "id": "D0pbOaNVESzZ",
        "colab_type": "text"
      },
      "cell_type": "markdown",
      "source": [
        "#### 55. What is the equivalent of enumerate for numpy arrays? (★★☆)"
      ]
    },
    {
      "metadata": {
        "id": "JHDHg_yuESzZ",
        "colab_type": "code",
        "colab": {}
      },
      "cell_type": "code",
      "source": [
        ""
      ],
      "execution_count": 0,
      "outputs": []
    },
    {
      "metadata": {
        "id": "XDnN72c7ESzb",
        "colab_type": "text"
      },
      "cell_type": "markdown",
      "source": [
        "#### 56. Generate a generic 2D Gaussian-like array (★★☆)"
      ]
    },
    {
      "metadata": {
        "id": "ImIBR9ctESzb",
        "colab_type": "code",
        "colab": {}
      },
      "cell_type": "code",
      "source": [
        ""
      ],
      "execution_count": 0,
      "outputs": []
    },
    {
      "metadata": {
        "id": "hoNYdSAxESzd",
        "colab_type": "text"
      },
      "cell_type": "markdown",
      "source": [
        "#### 57. How to randomly place p elements in a 2D array? (★★☆)"
      ]
    },
    {
      "metadata": {
        "id": "-nH-QOHCESzd",
        "colab_type": "code",
        "colab": {}
      },
      "cell_type": "code",
      "source": [
        ""
      ],
      "execution_count": 0,
      "outputs": []
    },
    {
      "metadata": {
        "id": "plAnwM3ZESzh",
        "colab_type": "text"
      },
      "cell_type": "markdown",
      "source": [
        "#### 58. Subtract the mean of each row of a matrix (★★☆)"
      ]
    },
    {
      "metadata": {
        "id": "maqUnjclESzh",
        "colab_type": "code",
        "colab": {}
      },
      "cell_type": "code",
      "source": [
        ""
      ],
      "execution_count": 0,
      "outputs": []
    },
    {
      "metadata": {
        "id": "rgxp0nfLESzj",
        "colab_type": "text"
      },
      "cell_type": "markdown",
      "source": [
        "#### 59. How to sort an array by the nth column? (★★☆)"
      ]
    },
    {
      "metadata": {
        "id": "cu4nl-KnESzj",
        "colab_type": "code",
        "colab": {}
      },
      "cell_type": "code",
      "source": [
        ""
      ],
      "execution_count": 0,
      "outputs": []
    },
    {
      "metadata": {
        "id": "8WI5YNRiESzl",
        "colab_type": "text"
      },
      "cell_type": "markdown",
      "source": [
        "#### 60. How to tell if a given 2D array has null columns? (★★☆)"
      ]
    },
    {
      "metadata": {
        "id": "yqKo3z1bESzl",
        "colab_type": "code",
        "colab": {}
      },
      "cell_type": "code",
      "source": [
        ""
      ],
      "execution_count": 0,
      "outputs": []
    },
    {
      "metadata": {
        "id": "LykXN4JHESzm",
        "colab_type": "text"
      },
      "cell_type": "markdown",
      "source": [
        "#### 61. Find the nearest value from a given value in an array (★★☆)"
      ]
    },
    {
      "metadata": {
        "id": "WX9IshIOESzm",
        "colab_type": "code",
        "colab": {}
      },
      "cell_type": "code",
      "source": [
        ""
      ],
      "execution_count": 0,
      "outputs": []
    },
    {
      "metadata": {
        "id": "5wUjNMfZESzn",
        "colab_type": "text"
      },
      "cell_type": "markdown",
      "source": [
        "#### 62. Considering two arrays with shape (1,3) and (3,1), how to compute their sum using an iterator? (★★☆)"
      ]
    },
    {
      "metadata": {
        "id": "T5o2BoWeESzn",
        "colab_type": "code",
        "colab": {}
      },
      "cell_type": "code",
      "source": [
        ""
      ],
      "execution_count": 0,
      "outputs": []
    },
    {
      "metadata": {
        "id": "S6Fqe6HpESzp",
        "colab_type": "text"
      },
      "cell_type": "markdown",
      "source": [
        "#### 63. Create an array class that has a name attribute (★★☆)"
      ]
    },
    {
      "metadata": {
        "id": "hHNHbk8OESzp",
        "colab_type": "code",
        "colab": {}
      },
      "cell_type": "code",
      "source": [
        ""
      ],
      "execution_count": 0,
      "outputs": []
    },
    {
      "metadata": {
        "id": "UifGRpFGESzr",
        "colab_type": "text"
      },
      "cell_type": "markdown",
      "source": [
        "#### 64. Consider a given vector, how to add 1 to each element indexed by a second vector (be careful with repeated indices)? (★★★)"
      ]
    },
    {
      "metadata": {
        "id": "hV3mGnulESzr",
        "colab_type": "code",
        "colab": {}
      },
      "cell_type": "code",
      "source": [
        ""
      ],
      "execution_count": 0,
      "outputs": []
    },
    {
      "metadata": {
        "id": "cGEJDRMaESzt",
        "colab_type": "text"
      },
      "cell_type": "markdown",
      "source": [
        "#### 65. How to accumulate elements of a vector (X) to an array (F) based on an index list (I)? (★★★)"
      ]
    },
    {
      "metadata": {
        "id": "ai8T3qV0ESzt",
        "colab_type": "code",
        "colab": {}
      },
      "cell_type": "code",
      "source": [
        ""
      ],
      "execution_count": 0,
      "outputs": []
    },
    {
      "metadata": {
        "id": "yuTWeJqRESzu",
        "colab_type": "text"
      },
      "cell_type": "markdown",
      "source": [
        "#### 66. Considering a (w,h,3) image of (dtype=ubyte), compute the number of unique colors (★★★)"
      ]
    },
    {
      "metadata": {
        "id": "Rr0Kbxy8ESzu",
        "colab_type": "code",
        "colab": {}
      },
      "cell_type": "code",
      "source": [
        ""
      ],
      "execution_count": 0,
      "outputs": []
    },
    {
      "metadata": {
        "id": "C8CzfwEMESzw",
        "colab_type": "text"
      },
      "cell_type": "markdown",
      "source": [
        "#### 67. Considering a four dimensions array, how to get sum over the last two axis at once? (★★★)"
      ]
    },
    {
      "metadata": {
        "id": "n7IqgrVwESzy",
        "colab_type": "code",
        "colab": {}
      },
      "cell_type": "code",
      "source": [
        ""
      ],
      "execution_count": 0,
      "outputs": []
    },
    {
      "metadata": {
        "id": "4qPwdaPPESzz",
        "colab_type": "text"
      },
      "cell_type": "markdown",
      "source": [
        "#### 68. Considering a one-dimensional vector D, how to compute means of subsets of D using a vector S of same size describing subset  indices? (★★★)"
      ]
    },
    {
      "metadata": {
        "id": "m6mWxQ-SESzz",
        "colab_type": "code",
        "colab": {}
      },
      "cell_type": "code",
      "source": [
        ""
      ],
      "execution_count": 0,
      "outputs": []
    },
    {
      "metadata": {
        "id": "vZvYia6tESz1",
        "colab_type": "text"
      },
      "cell_type": "markdown",
      "source": [
        "#### 69. How to get the diagonal of a dot product? (★★★)"
      ]
    },
    {
      "metadata": {
        "id": "8FYktMtRESz1",
        "colab_type": "code",
        "colab": {}
      },
      "cell_type": "code",
      "source": [
        ""
      ],
      "execution_count": 0,
      "outputs": []
    },
    {
      "metadata": {
        "id": "17Zgxp__ESz2",
        "colab_type": "text"
      },
      "cell_type": "markdown",
      "source": [
        "#### 70. Consider the vector \\[1, 2, 3, 4, 5\\], how to build a new vector with 3 consecutive zeros interleaved between each value? (★★★)"
      ]
    },
    {
      "metadata": {
        "id": "XgHWkQoRESz3",
        "colab_type": "code",
        "colab": {}
      },
      "cell_type": "code",
      "source": [
        ""
      ],
      "execution_count": 0,
      "outputs": []
    },
    {
      "metadata": {
        "id": "j0uSEPb8ESz5",
        "colab_type": "text"
      },
      "cell_type": "markdown",
      "source": [
        "#### 71. Consider an array of dimension (5,5,3), how to mulitply it by an array with dimensions (5,5)? (★★★)"
      ]
    },
    {
      "metadata": {
        "id": "7zqD0ZszESz5",
        "colab_type": "code",
        "colab": {},
        "collapsed": true
      },
      "cell_type": "code",
      "source": [
        ""
      ],
      "execution_count": 0,
      "outputs": []
    },
    {
      "metadata": {
        "id": "8Tj72sgVESz5",
        "colab_type": "text"
      },
      "cell_type": "markdown",
      "source": [
        "#### 72. How to swap two rows of an array? (★★★)"
      ]
    },
    {
      "metadata": {
        "id": "LcT_E884ESz6",
        "colab_type": "code",
        "colab": {}
      },
      "cell_type": "code",
      "source": [
        ""
      ],
      "execution_count": 0,
      "outputs": []
    },
    {
      "metadata": {
        "id": "wlsD2YXrESz9",
        "colab_type": "text"
      },
      "cell_type": "markdown",
      "source": [
        "#### 73. Consider a set of 10 triplets describing 10 triangles (with shared vertices), find the set of unique line segments composing all the  triangles (★★★)"
      ]
    },
    {
      "metadata": {
        "id": "X1M1yciJESz9",
        "colab_type": "code",
        "colab": {}
      },
      "cell_type": "code",
      "source": [
        ""
      ],
      "execution_count": 0,
      "outputs": []
    },
    {
      "metadata": {
        "id": "cFIR48o9ESz-",
        "colab_type": "text"
      },
      "cell_type": "markdown",
      "source": [
        "#### 74. Given an array C that is a bincount, how to produce an array A such that np.bincount(A) == C? (★★★)"
      ]
    },
    {
      "metadata": {
        "id": "BRo266BnESz-",
        "colab_type": "code",
        "colab": {}
      },
      "cell_type": "code",
      "source": [
        ""
      ],
      "execution_count": 0,
      "outputs": []
    },
    {
      "metadata": {
        "id": "PPa4R6GRES0A",
        "colab_type": "text"
      },
      "cell_type": "markdown",
      "source": [
        "#### 75. How to compute averages using a sliding window over an array? (★★★)"
      ]
    },
    {
      "metadata": {
        "id": "EFkYaEQWES0A",
        "colab_type": "code",
        "colab": {}
      },
      "cell_type": "code",
      "source": [
        ""
      ],
      "execution_count": 0,
      "outputs": []
    },
    {
      "metadata": {
        "id": "SFKPIxe5ES0B",
        "colab_type": "text"
      },
      "cell_type": "markdown",
      "source": [
        "#### 76. Consider a one-dimensional array Z, build a two-dimensional array whose first row is (Z\\[0\\],Z\\[1\\],Z\\[2\\]) and each subsequent row is  shifted by 1 (last row should be (Z\\[-3\\],Z\\[-2\\],Z\\[-1\\]) (★★★)"
      ]
    },
    {
      "metadata": {
        "id": "LagK44OfES0B",
        "colab_type": "code",
        "colab": {}
      },
      "cell_type": "code",
      "source": [
        ""
      ],
      "execution_count": 0,
      "outputs": []
    },
    {
      "metadata": {
        "id": "K0s-slM-ES0D",
        "colab_type": "text"
      },
      "cell_type": "markdown",
      "source": [
        "#### 77. How to negate a boolean, or to change the sign of a float inplace? (★★★)"
      ]
    },
    {
      "metadata": {
        "id": "VDoZ2CKjES0D",
        "colab_type": "code",
        "colab": {}
      },
      "cell_type": "code",
      "source": [
        ""
      ],
      "execution_count": 0,
      "outputs": []
    },
    {
      "metadata": {
        "id": "rOX5dVTKES0E",
        "colab_type": "text"
      },
      "cell_type": "markdown",
      "source": [
        "#### 78. Consider 2 sets of points P0,P1 describing lines (2d) and a point p, how to compute distance from p to each line i  (P0\\[i\\],P1\\[i\\])? (★★★)"
      ]
    },
    {
      "metadata": {
        "id": "Q5kS7ghYES0E",
        "colab_type": "code",
        "colab": {}
      },
      "cell_type": "code",
      "source": [
        ""
      ],
      "execution_count": 0,
      "outputs": []
    },
    {
      "metadata": {
        "id": "bs8JbA-aES0G",
        "colab_type": "text"
      },
      "cell_type": "markdown",
      "source": [
        "#### 79. Consider 2 sets of points P0,P1 describing lines (2d) and a set of points P, how to compute distance from each point j (P\\[j\\]) to each line i (P0\\[i\\],P1\\[i\\])? (★★★)"
      ]
    },
    {
      "metadata": {
        "id": "rokiEzhKES0G",
        "colab_type": "code",
        "colab": {}
      },
      "cell_type": "code",
      "source": [
        ""
      ],
      "execution_count": 0,
      "outputs": []
    },
    {
      "metadata": {
        "id": "eQ7ymPYFES0G",
        "colab_type": "text"
      },
      "cell_type": "markdown",
      "source": [
        "#### 80. Consider an arbitrary array, write a function that extract a subpart with a fixed shape and centered on a given element (pad with a `fill` value when necessary) (★★★)"
      ]
    },
    {
      "metadata": {
        "id": "MKwsXnGkES0G",
        "colab_type": "code",
        "colab": {}
      },
      "cell_type": "code",
      "source": [
        ""
      ],
      "execution_count": 0,
      "outputs": []
    },
    {
      "metadata": {
        "id": "YkFBH0NwES0I",
        "colab_type": "text"
      },
      "cell_type": "markdown",
      "source": [
        "#### 81. Consider an array Z = \\[1,2,3,4,5,6,7,8,9,10,11,12,13,14\\], how to generate an array R = \\[\\[1,2,3,4\\], \\[2,3,4,5\\], \\[3,4,5,6\\], ..., \\[11,12,13,14\\]\\]? (★★★)"
      ]
    },
    {
      "metadata": {
        "id": "zqMpkjKHES0I",
        "colab_type": "code",
        "colab": {}
      },
      "cell_type": "code",
      "source": [
        ""
      ],
      "execution_count": 0,
      "outputs": []
    },
    {
      "metadata": {
        "id": "u6jINT5WES0J",
        "colab_type": "text"
      },
      "cell_type": "markdown",
      "source": [
        "#### 82. Compute a matrix rank (★★★)"
      ]
    },
    {
      "metadata": {
        "id": "wuIU0VdOES0K",
        "colab_type": "code",
        "colab": {}
      },
      "cell_type": "code",
      "source": [
        ""
      ],
      "execution_count": 0,
      "outputs": []
    },
    {
      "metadata": {
        "id": "B124UQcCES0L",
        "colab_type": "text"
      },
      "cell_type": "markdown",
      "source": [
        "#### 83. How to find the most frequent value in an array?"
      ]
    },
    {
      "metadata": {
        "id": "7q39pembES0L",
        "colab_type": "code",
        "colab": {}
      },
      "cell_type": "code",
      "source": [
        ""
      ],
      "execution_count": 0,
      "outputs": []
    },
    {
      "metadata": {
        "id": "IfPwZlCtES0M",
        "colab_type": "text"
      },
      "cell_type": "markdown",
      "source": [
        "#### 84. Extract all the contiguous 3x3 blocks from a random 10x10 matrix (★★★)"
      ]
    },
    {
      "metadata": {
        "id": "fK_gQYvwES0M",
        "colab_type": "code",
        "colab": {}
      },
      "cell_type": "code",
      "source": [
        ""
      ],
      "execution_count": 0,
      "outputs": []
    },
    {
      "metadata": {
        "id": "sIU8zETxES0N",
        "colab_type": "text"
      },
      "cell_type": "markdown",
      "source": [
        "#### 85. Create a 2D array subclass such that Z\\[i,j\\] == Z\\[j,i\\] (★★★)"
      ]
    },
    {
      "metadata": {
        "id": "z-HSLJTnES0N",
        "colab_type": "code",
        "colab": {}
      },
      "cell_type": "code",
      "source": [
        ""
      ],
      "execution_count": 0,
      "outputs": []
    },
    {
      "metadata": {
        "id": "z1Ltf8TuES0Q",
        "colab_type": "text"
      },
      "cell_type": "markdown",
      "source": [
        "#### 86. Consider a set of p matrices wich shape (n,n) and a set of p vectors with shape (n,1). How to compute the sum of of the p matrix products at once? (result has shape (n,1)) (★★★)"
      ]
    },
    {
      "metadata": {
        "id": "4cbRJDZEES0Q",
        "colab_type": "code",
        "colab": {}
      },
      "cell_type": "code",
      "source": [
        ""
      ],
      "execution_count": 0,
      "outputs": []
    },
    {
      "metadata": {
        "id": "lTV9mbGOES0R",
        "colab_type": "text"
      },
      "cell_type": "markdown",
      "source": [
        "#### 87. Consider a 16x16 array, how to get the block-sum (block size is 4x4)? (★★★)"
      ]
    },
    {
      "metadata": {
        "id": "ZfaZ8CZiES0R",
        "colab_type": "code",
        "colab": {}
      },
      "cell_type": "code",
      "source": [
        ""
      ],
      "execution_count": 0,
      "outputs": []
    },
    {
      "metadata": {
        "id": "1y76kzwvES0T",
        "colab_type": "text"
      },
      "cell_type": "markdown",
      "source": [
        "#### 88. How to implement the Game of Life using numpy arrays? (★★★)"
      ]
    },
    {
      "metadata": {
        "id": "GwXvC_0mES0T",
        "colab_type": "code",
        "colab": {}
      },
      "cell_type": "code",
      "source": [
        ""
      ],
      "execution_count": 0,
      "outputs": []
    },
    {
      "metadata": {
        "id": "8rK26AnLES0T",
        "colab_type": "text"
      },
      "cell_type": "markdown",
      "source": [
        "#### 89. How to get the n largest values of an array (★★★)"
      ]
    },
    {
      "metadata": {
        "id": "EDF7w_vuES0U",
        "colab_type": "code",
        "colab": {}
      },
      "cell_type": "code",
      "source": [
        ""
      ],
      "execution_count": 0,
      "outputs": []
    },
    {
      "metadata": {
        "id": "Q5bF_cATES0U",
        "colab_type": "text"
      },
      "cell_type": "markdown",
      "source": [
        "#### 90. Given an arbitrary number of vectors, build the cartesian product (every combinations of every item) (★★★)"
      ]
    },
    {
      "metadata": {
        "id": "yjjZOJlTES0W",
        "colab_type": "code",
        "colab": {}
      },
      "cell_type": "code",
      "source": [
        ""
      ],
      "execution_count": 0,
      "outputs": []
    },
    {
      "metadata": {
        "id": "xR3WqzSFES0W",
        "colab_type": "text"
      },
      "cell_type": "markdown",
      "source": [
        "#### 91. How to create a record array from a regular array? (★★★)"
      ]
    },
    {
      "metadata": {
        "id": "KYlo7Xt0ES0X",
        "colab_type": "code",
        "colab": {}
      },
      "cell_type": "code",
      "source": [
        ""
      ],
      "execution_count": 0,
      "outputs": []
    },
    {
      "metadata": {
        "id": "JJYREvPnES0Y",
        "colab_type": "text"
      },
      "cell_type": "markdown",
      "source": [
        "#### 92. Consider a large vector Z, compute Z to the power of 3 using 3 different methods (★★★)"
      ]
    },
    {
      "metadata": {
        "id": "6k4uOSrWES0Y",
        "colab_type": "code",
        "colab": {}
      },
      "cell_type": "code",
      "source": [
        ""
      ],
      "execution_count": 0,
      "outputs": []
    },
    {
      "metadata": {
        "id": "MfJOLJhFES0Z",
        "colab_type": "text"
      },
      "cell_type": "markdown",
      "source": [
        "#### 93. Consider two arrays A and B of shape (8,3) and (2,2). How to find rows of A that contain elements of each row of B regardless of the order of the elements in B? (★★★)"
      ]
    },
    {
      "metadata": {
        "id": "JwV2Pv4hES0Z",
        "colab_type": "code",
        "colab": {}
      },
      "cell_type": "code",
      "source": [
        ""
      ],
      "execution_count": 0,
      "outputs": []
    },
    {
      "metadata": {
        "id": "DHQhet12ES0b",
        "colab_type": "text"
      },
      "cell_type": "markdown",
      "source": [
        "#### 94. Considering a 10x3 matrix, extract rows with unequal values (e.g. \\[2,2,3\\]) (★★★)"
      ]
    },
    {
      "metadata": {
        "id": "FIuR66MNES0c",
        "colab_type": "code",
        "colab": {}
      },
      "cell_type": "code",
      "source": [
        ""
      ],
      "execution_count": 0,
      "outputs": []
    },
    {
      "metadata": {
        "id": "hK9OJn5WES0c",
        "colab_type": "text"
      },
      "cell_type": "markdown",
      "source": [
        "#### 95. Convert a vector of ints into a matrix binary representation (★★★)"
      ]
    },
    {
      "metadata": {
        "id": "dt23p014ES0d",
        "colab_type": "code",
        "colab": {}
      },
      "cell_type": "code",
      "source": [
        ""
      ],
      "execution_count": 0,
      "outputs": []
    },
    {
      "metadata": {
        "id": "ZHOLKFM5ES0g",
        "colab_type": "text"
      },
      "cell_type": "markdown",
      "source": [
        "#### 96. Given a two dimensional array, how to extract unique rows? (★★★)"
      ]
    },
    {
      "metadata": {
        "id": "37uZFM5lES0g",
        "colab_type": "code",
        "colab": {}
      },
      "cell_type": "code",
      "source": [
        ""
      ],
      "execution_count": 0,
      "outputs": []
    },
    {
      "metadata": {
        "id": "SeeKPgTLES0h",
        "colab_type": "text"
      },
      "cell_type": "markdown",
      "source": [
        "#### 97. Considering 2 vectors A & B, write the einsum equivalent of inner, outer, sum, and mul function (★★★)"
      ]
    },
    {
      "metadata": {
        "id": "NqsQNuebES0h",
        "colab_type": "code",
        "colab": {}
      },
      "cell_type": "code",
      "source": [
        ""
      ],
      "execution_count": 0,
      "outputs": []
    },
    {
      "metadata": {
        "id": "dVuAQjO0ES0i",
        "colab_type": "text"
      },
      "cell_type": "markdown",
      "source": [
        "#### 98. Considering a path described by two vectors (X,Y), how to sample it using equidistant samples (★★★)?"
      ]
    },
    {
      "metadata": {
        "id": "KaUV-S8JES0j",
        "colab_type": "code",
        "colab": {},
        "collapsed": true
      },
      "cell_type": "code",
      "source": [
        ""
      ],
      "execution_count": 0,
      "outputs": []
    },
    {
      "metadata": {
        "id": "pn7T_c_gES0j",
        "colab_type": "text"
      },
      "cell_type": "markdown",
      "source": [
        "#### 99. Given an integer n and a 2D array X, select from X the rows which can be interpreted as draws from a multinomial distribution with n degrees, i.e., the rows which only contain integers and which sum to n. (★★★)"
      ]
    },
    {
      "metadata": {
        "id": "de1u3x_JES0k",
        "colab_type": "code",
        "colab": {}
      },
      "cell_type": "code",
      "source": [
        ""
      ],
      "execution_count": 0,
      "outputs": []
    },
    {
      "metadata": {
        "id": "285qanIgES0k",
        "colab_type": "text"
      },
      "cell_type": "markdown",
      "source": [
        "#### 100. Compute bootstrapped 95% confidence intervals for the mean of a 1D array X (i.e., resample the elements of an array with replacement N times, compute the mean of each sample, and then compute percentiles over the means). (★★★)"
      ]
    },
    {
      "metadata": {
        "id": "tuQoysxZES0k",
        "colab_type": "code",
        "colab": {}
      },
      "cell_type": "code",
      "source": [
        ""
      ],
      "execution_count": 0,
      "outputs": []
    }
  ]
}