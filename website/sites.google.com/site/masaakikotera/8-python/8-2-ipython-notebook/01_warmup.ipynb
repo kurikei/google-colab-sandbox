{
  "nbformat": 4,
  "nbformat_minor": 0,
  "metadata": {
    "colab": {
      "name": "01_warmup.ipynb",
      "version": "0.3.2",
      "provenance": [],
      "collapsed_sections": []
    },
    "kernelspec": {
      "name": "python3",
      "display_name": "Python 3"
    }
  },
  "cells": [
    {
      "cell_type": "markdown",
      "metadata": {
        "id": "view-in-github",
        "colab_type": "text"
      },
      "source": [
        "[View in Colaboratory](https://colab.research.google.com/github/kurikei/google-colab-sandbox/blob/master/website/sites.google.com/site/masaakikotera/8-python/8-2-ipython-notebook/01_warmup.ipynb)"
      ]
    },
    {
      "metadata": {
        "id": "ixalLu7avCg3",
        "colab_type": "text"
      },
      "cell_type": "markdown",
      "source": [
        "1. Python ウォーミングアップ"
      ]
    },
    {
      "metadata": {
        "id": "FZ8FSa5osM2u",
        "colab_type": "code",
        "colab": {
          "base_uri": "https://localhost:8080/",
          "height": 34
        },
        "outputId": "9cd3bf75-779f-4db5-ab0a-19c7b5bf3ccf"
      },
      "cell_type": "code",
      "source": [
        "1 + 2"
      ],
      "execution_count": 2,
      "outputs": [
        {
          "output_type": "execute_result",
          "data": {
            "text/plain": [
              "3.0"
            ]
          },
          "metadata": {
            "tags": []
          },
          "execution_count": 2
        }
      ]
    },
    {
      "metadata": {
        "id": "yOgGM2fgsjrA",
        "colab_type": "code",
        "colab": {}
      },
      "cell_type": "code",
      "source": [
        "a = 4\n",
        "b = 5"
      ],
      "execution_count": 0,
      "outputs": []
    },
    {
      "metadata": {
        "id": "Bqiv1rWes1Sg",
        "colab_type": "code",
        "colab": {
          "base_uri": "https://localhost:8080/",
          "height": 34
        },
        "outputId": "1104a401-7d9c-4a13-f996-669615e436f4"
      },
      "cell_type": "code",
      "source": [
        "a * b"
      ],
      "execution_count": 5,
      "outputs": [
        {
          "output_type": "execute_result",
          "data": {
            "text/plain": [
              "20"
            ]
          },
          "metadata": {
            "tags": []
          },
          "execution_count": 5
        }
      ]
    },
    {
      "metadata": {
        "id": "TlE8Gg5is6gy",
        "colab_type": "code",
        "colab": {}
      },
      "cell_type": "code",
      "source": [
        "list = [1, 2, 3, 4, 5]"
      ],
      "execution_count": 0,
      "outputs": []
    },
    {
      "metadata": {
        "id": "0eD5wFgOs-gY",
        "colab_type": "code",
        "colab": {
          "base_uri": "https://localhost:8080/",
          "height": 34
        },
        "outputId": "8808d9f4-2fd4-464c-d5d0-e7403233b841"
      },
      "cell_type": "code",
      "source": [
        "print(list)"
      ],
      "execution_count": 17,
      "outputs": [
        {
          "output_type": "stream",
          "text": [
            "[1, 2, 3, 4, 5]\n"
          ],
          "name": "stdout"
        }
      ]
    },
    {
      "metadata": {
        "id": "kMW31Q1-tBvC",
        "colab_type": "code",
        "colab": {
          "base_uri": "https://localhost:8080/",
          "height": 102
        },
        "outputId": "3ddc073b-9d19-4db4-db70-5ba51f4b5f9f"
      },
      "cell_type": "code",
      "source": [
        "# for 文\n",
        "for n in list:\n",
        "  print(n * 2)"
      ],
      "execution_count": 18,
      "outputs": [
        {
          "output_type": "stream",
          "text": [
            "2\n",
            "4\n",
            "6\n",
            "8\n",
            "10\n"
          ],
          "name": "stdout"
        }
      ]
    },
    {
      "metadata": {
        "id": "Wkted1GvtIfh",
        "colab_type": "code",
        "colab": {}
      },
      "cell_type": "code",
      "source": [
        "# 関数定義\n",
        "def double(list):\n",
        "    for n in list:\n",
        "        print(n * 2)"
      ],
      "execution_count": 0,
      "outputs": []
    },
    {
      "metadata": {
        "id": "oN491enctPtC",
        "colab_type": "code",
        "colab": {
          "base_uri": "https://localhost:8080/",
          "height": 102
        },
        "outputId": "47c6159f-7948-4d5c-bb39-75e04b1b8630"
      },
      "cell_type": "code",
      "source": [
        "# 関数の実行\n",
        "double(list)"
      ],
      "execution_count": 19,
      "outputs": [
        {
          "output_type": "stream",
          "text": [
            "2\n",
            "4\n",
            "6\n",
            "8\n",
            "10\n"
          ],
          "name": "stdout"
        }
      ]
    },
    {
      "metadata": {
        "id": "27lvma-dtWbI",
        "colab_type": "code",
        "colab": {}
      },
      "cell_type": "code",
      "source": [
        "def multiple(list1, list2):\n",
        "  new_list = []\n",
        "  for n, m in zip(list1, list2):\n",
        "    new_list.append(n * m)\n",
        "  return new_list"
      ],
      "execution_count": 0,
      "outputs": []
    },
    {
      "metadata": {
        "id": "65UidfrHtSam",
        "colab_type": "code",
        "colab": {}
      },
      "cell_type": "code",
      "source": [
        "list2 = [1, 2, 3, 4, 5]"
      ],
      "execution_count": 0,
      "outputs": []
    },
    {
      "metadata": {
        "id": "7yOMupWUuh7H",
        "colab_type": "code",
        "colab": {
          "base_uri": "https://localhost:8080/",
          "height": 34
        },
        "outputId": "50596256-e185-4f23-8887-c27c25c7a252"
      },
      "cell_type": "code",
      "source": [
        "print(multiple(list, list2))"
      ],
      "execution_count": 26,
      "outputs": [
        {
          "output_type": "stream",
          "text": [
            "[1, 4, 9, 16, 25]\n"
          ],
          "name": "stdout"
        }
      ]
    }
  ]
}