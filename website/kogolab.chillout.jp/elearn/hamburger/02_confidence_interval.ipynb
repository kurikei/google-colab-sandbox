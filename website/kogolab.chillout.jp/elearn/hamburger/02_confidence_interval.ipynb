{
  "nbformat": 4,
  "nbformat_minor": 0,
  "metadata": {
    "colab": {
      "name": "02_confidence_interval.ipynb",
      "version": "0.3.2",
      "provenance": []
    },
    "kernelspec": {
      "name": "python3",
      "display_name": "Python 3"
    }
  },
  "cells": [
    {
      "cell_type": "markdown",
      "metadata": {
        "id": "view-in-github",
        "colab_type": "text"
      },
      "source": [
        "[View in Colaboratory](https://colab.research.google.com/github/kurikei/google-colab-sandbox/blob/master/website/kogolab.chillout.jp/elearn/hamburger/02_confidence_interval.ipynb)"
      ]
    },
    {
      "metadata": {
        "id": "mOEXe8ikJ_TX",
        "colab_type": "text"
      },
      "cell_type": "markdown",
      "source": [
        "2.1　平均的ポテトを推定する http://kogolab.chillout.jp/elearn/hamburger/chap2/sec1.html"
      ]
    },
    {
      "metadata": {
        "id": "dzPsC7V4I4M0",
        "colab_type": "code",
        "colab": {}
      },
      "cell_type": "code",
      "source": [
        "import numpy as np"
      ],
      "execution_count": 0,
      "outputs": []
    },
    {
      "metadata": {
        "id": "PJHAFUO8JvbY",
        "colab_type": "code",
        "colab": {}
      },
      "cell_type": "code",
      "source": [
        "potato_counts = [47, 51, 49, 50, 49, 46, 51, 48, 52, 49]"
      ],
      "execution_count": 0,
      "outputs": []
    },
    {
      "metadata": {
        "id": "hlLMsxgsJwf7",
        "colab_type": "code",
        "colab": {
          "base_uri": "https://localhost:8080/",
          "height": 34
        },
        "outputId": "d8fcc230-a136-45e1-a11f-840785ea5519"
      },
      "cell_type": "code",
      "source": [
        "np.mean(potato_counts)"
      ],
      "execution_count": 3,
      "outputs": [
        {
          "output_type": "execute_result",
          "data": {
            "text/plain": [
              "49.2"
            ]
          },
          "metadata": {
            "tags": []
          },
          "execution_count": 3
        }
      ]
    },
    {
      "metadata": {
        "id": "HMM87LhpJ1Ja",
        "colab_type": "code",
        "colab": {
          "base_uri": "https://localhost:8080/",
          "height": 34
        },
        "outputId": "156324b6-7ffe-42d6-c97e-d474afc52767"
      },
      "cell_type": "code",
      "source": [
        "np.var(potato_counts)"
      ],
      "execution_count": 4,
      "outputs": [
        {
          "output_type": "execute_result",
          "data": {
            "text/plain": [
              "3.1599999999999997"
            ]
          },
          "metadata": {
            "tags": []
          },
          "execution_count": 4
        }
      ]
    },
    {
      "metadata": {
        "id": "_zgLNedAJ3nx",
        "colab_type": "code",
        "colab": {
          "base_uri": "https://localhost:8080/",
          "height": 34
        },
        "outputId": "dfa5489c-9009-42d1-c30f-75ca650f9fe6"
      },
      "cell_type": "code",
      "source": [
        "np.std(potato_counts)"
      ],
      "execution_count": 5,
      "outputs": [
        {
          "output_type": "execute_result",
          "data": {
            "text/plain": [
              "1.7776388834631176"
            ]
          },
          "metadata": {
            "tags": []
          },
          "execution_count": 5
        }
      ]
    },
    {
      "metadata": {
        "id": "l3eBzsHHKCvO",
        "colab_type": "text"
      },
      "cell_type": "markdown",
      "source": [
        "2.2　母集団の平均と分散を推定する http://kogolab.chillout.jp/elearn/hamburger/chap2/sec2.html"
      ]
    },
    {
      "metadata": {
        "id": "2voZ2Qo0K7nY",
        "colab_type": "text"
      },
      "cell_type": "markdown",
      "source": [
        "標本分散は、一般にその期待値が母分散よりも若干小さくなる。そこで不偏分散を用いて母集団の推定量とする。"
      ]
    },
    {
      "metadata": {
        "id": "RaLeQvB0KGOp",
        "colab_type": "code",
        "colab": {
          "base_uri": "https://localhost:8080/",
          "height": 34
        },
        "outputId": "0e0aa315-00ca-4bb1-e4e2-6432315dcb6d"
      },
      "cell_type": "code",
      "source": [
        "# ポテトの数の不偏分散\n",
        "np.var(potato_counts, ddof=1)"
      ],
      "execution_count": 6,
      "outputs": [
        {
          "output_type": "execute_result",
          "data": {
            "text/plain": [
              "3.511111111111111"
            ]
          },
          "metadata": {
            "tags": []
          },
          "execution_count": 6
        }
      ]
    },
    {
      "metadata": {
        "id": "ck1JsqgsZaVe",
        "colab_type": "text"
      },
      "cell_type": "markdown",
      "source": [
        "2.3　区間推定／信頼区間\n",
        "http://kogolab.chillout.jp/elearn/hamburger/chap2/sec3.html"
      ]
    },
    {
      "metadata": {
        "id": "W9J6xV6xT6nu",
        "colab_type": "code",
        "colab": {}
      },
      "cell_type": "code",
      "source": [
        "import scipy as sc"
      ],
      "execution_count": 0,
      "outputs": []
    },
    {
      "metadata": {
        "id": "JkgFbJ7OUNnC",
        "colab_type": "code",
        "colab": {
          "base_uri": "https://localhost:8080/",
          "height": 34
        },
        "outputId": "985a06dc-5905-45db-9fa3-63ba08ecea04"
      },
      "cell_type": "code",
      "source": [
        "# 95%信頼係数を求める\n",
        "\n",
        "# 信頼係数\n",
        "alpha95 = 0.95\n",
        "\n",
        "# 自由度 (標本数 -1)\n",
        "degree_of_freedom = len(potato_counts) - 1\n",
        "\n",
        "# 平均\n",
        "mean = np.mean(potato_counts)\n",
        "\n",
        "# 標準誤差\n",
        "sem = sc.stats.sem(potato_counts)\n",
        "\n",
        "# 95%信頼区間を計算\n",
        "sc.stats.t.interval(alpha95, degree_of_freedom, loc=mean, scale=sem)"
      ],
      "execution_count": 8,
      "outputs": [
        {
          "output_type": "execute_result",
          "data": {
            "text/plain": [
              "(47.859567155669005, 50.540432844331)"
            ]
          },
          "metadata": {
            "tags": []
          },
          "execution_count": 8
        }
      ]
    },
    {
      "metadata": {
        "id": "UPCvUGBvZFrP",
        "colab_type": "code",
        "colab": {
          "base_uri": "https://localhost:8080/",
          "height": 34
        },
        "outputId": "578cd371-f664-4d27-9b06-5a3bb30288f3"
      },
      "cell_type": "code",
      "source": [
        "# 99%信頼係数を求める\n",
        "\n",
        "# 信頼係数\n",
        "alpha99 = 0.99\n",
        "\n",
        "# 99%信頼区間を計算\n",
        "sc.stats.t.interval(alpha99, degree_of_freedom, loc=mean, scale=sem)"
      ],
      "execution_count": 9,
      "outputs": [
        {
          "output_type": "execute_result",
          "data": {
            "text/plain": [
              "(47.274321990699256, 51.12567800930075)"
            ]
          },
          "metadata": {
            "tags": []
          },
          "execution_count": 9
        }
      ]
    },
    {
      "metadata": {
        "id": "CDBArwQwZl9P",
        "colab_type": "text"
      },
      "cell_type": "markdown",
      "source": [
        "2.4　実践編：平均的チキンを推定する\n",
        "http://kogolab.chillout.jp/elearn/hamburger/chap2/sec4.html"
      ]
    },
    {
      "metadata": {
        "id": "13iEpUQ3ZruT",
        "colab_type": "code",
        "colab": {}
      },
      "cell_type": "code",
      "source": [
        "chicken_weights = [568, 530, 581, 554, 536, 518, 564, 552]"
      ],
      "execution_count": 0,
      "outputs": []
    },
    {
      "metadata": {
        "id": "-Xnfx4uSZ3mJ",
        "colab_type": "code",
        "colab": {
          "base_uri": "https://localhost:8080/",
          "height": 34
        },
        "outputId": "537ed32a-9549-4699-d099-ed81cf06649f"
      },
      "cell_type": "code",
      "source": [
        "# 標本平均\n",
        "chicken_mean = np.mean(chicken_weights)\n",
        "print(chicken_mean)"
      ],
      "execution_count": 11,
      "outputs": [
        {
          "output_type": "stream",
          "text": [
            "550.375\n"
          ],
          "name": "stdout"
        }
      ]
    },
    {
      "metadata": {
        "id": "NFoWZ-_kaEUN",
        "colab_type": "code",
        "colab": {
          "base_uri": "https://localhost:8080/",
          "height": 34
        },
        "outputId": "ee62b949-5cc2-44e1-c98d-82ddf49a6e33"
      },
      "cell_type": "code",
      "source": [
        "# 不偏分散\n",
        "np.var(chicken_weights, ddof = 1)"
      ],
      "execution_count": 12,
      "outputs": [
        {
          "output_type": "execute_result",
          "data": {
            "text/plain": [
              "445.69642857142856"
            ]
          },
          "metadata": {
            "tags": []
          },
          "execution_count": 12
        }
      ]
    },
    {
      "metadata": {
        "id": "CKkv-sW9aJK-",
        "colab_type": "code",
        "colab": {
          "base_uri": "https://localhost:8080/",
          "height": 34
        },
        "outputId": "d0664e51-85a5-4bb9-ce27-44b712d5fb9f"
      },
      "cell_type": "code",
      "source": [
        "# 標本標準誤差\n",
        "chicken_sem = sc.stats.sem(chicken_weights)\n",
        "print(chicken_sem)"
      ],
      "execution_count": 13,
      "outputs": [
        {
          "output_type": "stream",
          "text": [
            "7.464050748181484\n"
          ],
          "name": "stdout"
        }
      ]
    },
    {
      "metadata": {
        "id": "IJCl33dSaUr3",
        "colab_type": "code",
        "colab": {
          "base_uri": "https://localhost:8080/",
          "height": 34
        },
        "outputId": "0d0b6012-a98b-4c3c-c121-c63138ec1b97"
      },
      "cell_type": "code",
      "source": [
        "# 95%平均区間\n",
        "chicken_df = len(chicken_weights) -1\n",
        "sc.stats.t.interval(0.95, chicken_df, chicken_mean, chicken_sem)"
      ],
      "execution_count": 14,
      "outputs": [
        {
          "output_type": "execute_result",
          "data": {
            "text/plain": [
              "(532.7253245900785, 568.0246754099215)"
            ]
          },
          "metadata": {
            "tags": []
          },
          "execution_count": 14
        }
      ]
    },
    {
      "metadata": {
        "id": "ddAZh5obazwB",
        "colab_type": "code",
        "colab": {
          "base_uri": "https://localhost:8080/",
          "height": 34
        },
        "outputId": "9d566d95-2be9-4289-e8bf-92af30b17d86"
      },
      "cell_type": "code",
      "source": [
        "# 9９%平均区間\n",
        "sc.stats.t.interval(0.99, chicken_df, chicken_mean, chicken_sem)"
      ],
      "execution_count": 15,
      "outputs": [
        {
          "output_type": "execute_result",
          "data": {
            "text/plain": [
              "(524.2546790761623, 576.4953209238377)"
            ]
          },
          "metadata": {
            "tags": []
          },
          "execution_count": 15
        }
      ]
    }
  ]
}