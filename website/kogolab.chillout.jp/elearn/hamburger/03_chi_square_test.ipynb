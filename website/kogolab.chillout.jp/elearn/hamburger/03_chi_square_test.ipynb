{
  "nbformat": 4,
  "nbformat_minor": 0,
  "metadata": {
    "colab": {
      "name": "03_chi_square_test.ipynb",
      "version": "0.3.2",
      "provenance": []
    },
    "kernelspec": {
      "name": "python3",
      "display_name": "Python 3"
    }
  },
  "cells": [
    {
      "cell_type": "markdown",
      "metadata": {
        "id": "view-in-github",
        "colab_type": "text"
      },
      "source": [
        "[View in Colaboratory](https://colab.research.google.com/github/kurikei/google-colab-sandbox/blob/master/website/kogolab.chillout.jp/elearn/hamburger/03_chi_square_test.ipynb)"
      ]
    },
    {
      "metadata": {
        "id": "w1XgVqqfqhRQ",
        "colab_type": "text"
      },
      "cell_type": "markdown",
      "source": [
        "3.3　カイ２乗検定\n",
        "http://kogolab.chillout.jp/elearn/hamburger/chap3/sec3.html"
      ]
    },
    {
      "metadata": {
        "id": "rjvhK02OqQyQ",
        "colab_type": "code",
        "colab": {}
      },
      "cell_type": "code",
      "source": [
        "import numpy as np\n",
        "import scipy as sp"
      ],
      "execution_count": 0,
      "outputs": []
    },
    {
      "metadata": {
        "id": "VqFm_wWtrH57",
        "colab_type": "code",
        "colab": {}
      },
      "cell_type": "code",
      "source": [
        "obs = np.array([[435, 165],[265, 135]])"
      ],
      "execution_count": 0,
      "outputs": []
    },
    {
      "metadata": {
        "id": "YtHZofFUsDMm",
        "colab_type": "code",
        "colab": {
          "base_uri": "https://localhost:8080/",
          "height": 102
        },
        "outputId": "f1a745aa-762b-4cda-f88b-96e0f4f1d748"
      },
      "cell_type": "code",
      "source": [
        "# 第二引数は 自由度が1のときにイェイツの修正を行うオプション\n",
        "chi2, p, dof, expected = sp.stats.chi2_contingency(obs, False)\n",
        "\n",
        "# カイ二乗値\n",
        "print(chi2)\n",
        "# 確率\n",
        "print(p)\n",
        "# 自由度\n",
        "print(dof)\n",
        "# 期待度数\n",
        "print(expected)"
      ],
      "execution_count": 3,
      "outputs": [
        {
          "output_type": "stream",
          "text": [
            "4.464285714285714\n",
            "0.03461055751570723\n",
            "1\n",
            "[[420. 180.]\n",
            " [280. 120.]]\n"
          ],
          "name": "stdout"
        }
      ]
    },
    {
      "metadata": {
        "id": "E-DHITuj2s-3",
        "colab_type": "text"
      },
      "cell_type": "markdown",
      "source": [
        "3.4　実践編：ハンバーガーを入れてみる\n",
        "http://kogolab.chillout.jp/elearn/hamburger/chap3/sec4.html"
      ]
    },
    {
      "metadata": {
        "id": "lwP_VOkw3jpL",
        "colab_type": "text"
      },
      "cell_type": "markdown",
      "source": [
        "帰無仮説：ワクワクバーガーとモグモグバーガーのポテト・チキン・ハンバーガーの売れ方に違いはない"
      ]
    },
    {
      "metadata": {
        "id": "WII3PH485iac",
        "colab_type": "text"
      },
      "cell_type": "markdown",
      "source": [
        "対立仮説：ワクワクバーガーとモグモグバーガーのポテト・チキン・ハンバーガーの売れ方に違いがある"
      ]
    },
    {
      "metadata": {
        "id": "hm_T-uV92RHs",
        "colab_type": "code",
        "colab": {
          "base_uri": "https://localhost:8080/",
          "height": 102
        },
        "outputId": "64d7131d-8fb1-4c60-9094-960509bf61e0"
      },
      "cell_type": "code",
      "source": [
        "obs2 = np.array([[435, 165, 650], [265, 135, 350]])\n",
        "chi2, p, dof, expected =  sp.stats.chi2_contingency(obs2, False)\n",
        "# カイ二乗値\n",
        "print(chi2)\n",
        "# 確率\n",
        "print(p)\n",
        "# 自由度\n",
        "print(dof)\n",
        "# 期待度数\n",
        "print(expected)"
      ],
      "execution_count": 4,
      "outputs": [
        {
          "output_type": "stream",
          "text": [
            "9.904761904761903\n",
            "0.007066563731461754\n",
            "2\n",
            "[[437.5 187.5 625. ]\n",
            " [262.5 112.5 375. ]]\n"
          ],
          "name": "stdout"
        }
      ]
    },
    {
      "metadata": {
        "id": "lOoqKgx3318Q",
        "colab_type": "text"
      },
      "cell_type": "markdown",
      "source": [
        "確率は0.007と設定した有意水準1%より小さく、帰無仮説は棄却されるので、売れ方に違いはあるといえる"
      ]
    },
    {
      "metadata": {
        "id": "yzleDC3s376O",
        "colab_type": "text"
      },
      "cell_type": "markdown",
      "source": [
        "3.9　通過テスト\n",
        "http://kogolab.chillout.jp/elearn/hamburger/chap3/sec9.html"
      ]
    },
    {
      "metadata": {
        "id": "nH9rZRUu37k5",
        "colab_type": "code",
        "colab": {
          "base_uri": "https://localhost:8080/",
          "height": 102
        },
        "outputId": "47157a68-4f50-4dc7-e8d9-0279030c6498"
      },
      "cell_type": "code",
      "source": [
        "obs3 = np.array([[24, 18], [6, 18]])\n",
        "\n",
        "chi2, p, dof, expected =  sp.stats.chi2_contingency(obs3, False)\n",
        "# カイ二乗値\n",
        "print(chi2)\n",
        "# 確率\n",
        "print(p)\n",
        "# 自由度\n",
        "print(dof)\n",
        "# 期待度数\n",
        "print(expected)"
      ],
      "execution_count": 5,
      "outputs": [
        {
          "output_type": "stream",
          "text": [
            "6.364285714285714\n",
            "0.011643995832960663\n",
            "1\n",
            "[[19.09090909 22.90909091]\n",
            " [10.90909091 13.09090909]]\n"
          ],
          "name": "stdout"
        }
      ]
    },
    {
      "metadata": {
        "id": "QU00pioa4P8D",
        "colab_type": "text"
      },
      "cell_type": "markdown",
      "source": [
        "(1) 桜組と桃組で国語と算数の好き嫌いの傾向に差がない"
      ]
    },
    {
      "metadata": {
        "id": "ZfQzg6tL4V6X",
        "colab_type": "text"
      },
      "cell_type": "markdown",
      "source": [
        "(2) 桜組と桃組で国語と算数の好き嫌いに差がある"
      ]
    },
    {
      "metadata": {
        "id": "XuJaHv5D4c8m",
        "colab_type": "text"
      },
      "cell_type": "markdown",
      "source": [
        "(3) 国語・桜19, 国語・桃23, 算数・桜11, 算数・桃13"
      ]
    },
    {
      "metadata": {
        "id": "zsfirRVW40Oz",
        "colab_type": "text"
      },
      "cell_type": "markdown",
      "source": [
        "(4) 6.36"
      ]
    },
    {
      "metadata": {
        "id": "UUGPZYoZ448_",
        "colab_type": "text"
      },
      "cell_type": "markdown",
      "source": [
        "(5) p = 0.011 で 設定した有意水準1%より大きいので、帰無仮説は棄却できない"
      ]
    },
    {
      "metadata": {
        "id": "ZKZR3hQG5KdB",
        "colab_type": "text"
      },
      "cell_type": "markdown",
      "source": [
        "(6) このデータからは桜組と桃組で国語と算数の好き嫌いの傾向に差があるとはいえない"
      ]
    }
  ]
}