{
  "nbformat": 4,
  "nbformat_minor": 0,
  "metadata": {
    "colab": {
      "name": "01_average_and_variance.ipynb",
      "version": "0.3.2",
      "provenance": [],
      "collapsed_sections": []
    },
    "kernelspec": {
      "name": "python3",
      "display_name": "Python 3"
    }
  },
  "cells": [
    {
      "cell_type": "markdown",
      "metadata": {
        "id": "view-in-github",
        "colab_type": "text"
      },
      "source": [
        "[View in Colaboratory](https://colab.research.google.com/github/kurikei/google-colab-sandbox/blob/master/website/kogolab.chillout.jp/elearn/hamburger/01_average_and_variance.ipynb)"
      ]
    },
    {
      "metadata": {
        "id": "KXvCb0YtBbGs",
        "colab_type": "text"
      },
      "cell_type": "markdown",
      "source": [
        "1.1　ポテトの長さの平均は http://kogolab.chillout.jp/elearn/hamburger/chap1/sec1.html"
      ]
    },
    {
      "metadata": {
        "id": "prsb5mBpwarI",
        "colab_type": "code",
        "colab": {}
      },
      "cell_type": "code",
      "source": [
        "import numpy as np"
      ],
      "execution_count": 0,
      "outputs": []
    },
    {
      "metadata": {
        "id": "S2PZje6P9OT0",
        "colab_type": "code",
        "colab": {}
      },
      "cell_type": "code",
      "source": [
        "# ワクワクバーガーのポテトの長さ\n",
        "length_W = [3.5, 4.2, 4.9, 4.6, 2.8, 5.6, 4.2, 4.9, 4.4, 3.7,\n",
        "                      3.8, 4.0, 5.2, 3.9, 5.6, 5.3, 5.0, 4.7, 4.0, 3.1,\n",
        "                      5.8, 3.6, 6.0, 4.2, 5.7, 3.9, 4.7, 5.3, 5.5, 4.7,\n",
        "                     6.4, 3.8, 3.9, 4.2, 5.1, 5.1, 4.1, 3.6, 4.2, 5.0,\n",
        "                     4.2, 5.2, 5.3, 6.4, 4.4, 3.6, 3.7, 4.2, 4.8]"
      ],
      "execution_count": 0,
      "outputs": []
    },
    {
      "metadata": {
        "id": "dUcqgVna9rIH",
        "colab_type": "code",
        "colab": {
          "base_uri": "https://localhost:8080/",
          "height": 34
        },
        "outputId": "b86c6d07-b967-405d-cbbc-eb0159eef2ea"
      },
      "cell_type": "code",
      "source": [
        "# ワクワクバーガーのポテトの長さの平均値\n",
        "print(np.average(length_W))"
      ],
      "execution_count": 3,
      "outputs": [
        {
          "output_type": "stream",
          "text": [
            "4.571428571428571\n"
          ],
          "name": "stdout"
        }
      ]
    },
    {
      "metadata": {
        "id": "RZMEd9Ih9TQ3",
        "colab_type": "code",
        "colab": {}
      },
      "cell_type": "code",
      "source": [
        "# モグモグバーガーのポテトの長さ\n",
        "length_M = [4.5, 4.2, 3.9, 6.6, 0.8, 5.6, 3.2, 6.9, 4.4, 4.7,\n",
        "                      3.8, 3.0, 3.2, 4.9, 7.6, 3.3, 7.0, 3.7, 3.0, 4.1,\n",
        "                      5.8, 4.6, 4.0, 2.2, 7.7, 3.9, 6.7, 3.3, 7.5, 2.7,\n",
        "                      5.4, 5.8, 5.9, 3.2, 5.1, 3.1, 6.1, 4.6, 2.2, 4.0,\n",
        "                     6.4, 5.2, 3.3, 6.4, 6.4, 2.6, 2.6, 5.2, 5.8]"
      ],
      "execution_count": 0,
      "outputs": []
    },
    {
      "metadata": {
        "id": "4tAOZi4j9jt-",
        "colab_type": "code",
        "colab": {
          "base_uri": "https://localhost:8080/",
          "height": 34
        },
        "outputId": "7f9484fb-0ba8-4520-9d22-18128a757d23"
      },
      "cell_type": "code",
      "source": [
        "# モグモグバーガーのポテトの長さの合計値\n",
        "print(np.sum(length_M))"
      ],
      "execution_count": 5,
      "outputs": [
        {
          "output_type": "stream",
          "text": [
            "226.10000000000002\n"
          ],
          "name": "stdout"
        }
      ]
    },
    {
      "metadata": {
        "id": "N-VFs4G49v_3",
        "colab_type": "code",
        "colab": {
          "base_uri": "https://localhost:8080/",
          "height": 34
        },
        "outputId": "75677279-4f2d-4889-977a-70bedb4c228f"
      },
      "cell_type": "code",
      "source": [
        "# モグモグバーガーのポテトの長さの平均値\n",
        "print(np.average(length_M))"
      ],
      "execution_count": 6,
      "outputs": [
        {
          "output_type": "stream",
          "text": [
            "4.614285714285715\n"
          ],
          "name": "stdout"
        }
      ]
    },
    {
      "metadata": {
        "id": "EyAXBiESBL6d",
        "colab_type": "text"
      },
      "cell_type": "markdown",
      "source": [
        "1.2　度数分布\n",
        "http://kogolab.chillout.jp/elearn/hamburger/chap1/sec2.html"
      ]
    },
    {
      "metadata": {
        "id": "ATQPn8UOCJ1P",
        "colab_type": "code",
        "colab": {}
      },
      "cell_type": "code",
      "source": [
        "import matplotlib.pyplot as plt"
      ],
      "execution_count": 0,
      "outputs": []
    },
    {
      "metadata": {
        "id": "0G47jyoZCPNe",
        "colab_type": "code",
        "colab": {
          "base_uri": "https://localhost:8080/",
          "height": 398
        },
        "outputId": "b97e2c51-ea5c-4a0c-8357-b661cece8e28"
      },
      "cell_type": "code",
      "source": [
        "# モグモグバーガーのポテトの長さのヒストグラム (matplotlib.pyplot)\n",
        "plt.hist(length_M)"
      ],
      "execution_count": 8,
      "outputs": [
        {
          "output_type": "execute_result",
          "data": {
            "text/plain": [
              "(array([1., 0., 5., 9., 8., 6., 5., 5., 7., 3.]),\n",
              " array([0.8 , 1.49, 2.18, 2.87, 3.56, 4.25, 4.94, 5.63, 6.32, 7.01, 7.7 ]),\n",
              " <a list of 10 Patch objects>)"
            ]
          },
          "metadata": {
            "tags": []
          },
          "execution_count": 8
        },
        {
          "output_type": "display_data",
          "data": {
            "image/png": "[encoded data removed]",
            "text/plain": [
              "<matplotlib.figure.Figure at 0x7f75052e3940>"
            ]
          },
          "metadata": {
            "tags": []
          }
        }
      ]
    },
    {
      "metadata": {
        "id": "-3CfWDfrCKJZ",
        "colab_type": "code",
        "colab": {
          "base_uri": "https://localhost:8080/",
          "height": 398
        },
        "outputId": "c0e4b21c-4931-4861-a997-a17912bcf36c"
      },
      "cell_type": "code",
      "source": [
        "# ワクワクバーガーのポテトの長さのヒストグラム (matplotlib.pyplot)\n",
        "plt.hist(length_W)"
      ],
      "execution_count": 9,
      "outputs": [
        {
          "output_type": "execute_result",
          "data": {
            "text/plain": [
              "(array([ 2.,  1.,  7., 13.,  2.,  7.,  9.,  3.,  3.,  2.]),\n",
              " array([2.8 , 3.16, 3.52, 3.88, 4.24, 4.6 , 4.96, 5.32, 5.68, 6.04, 6.4 ]),\n",
              " <a list of 10 Patch objects>)"
            ]
          },
          "metadata": {
            "tags": []
          },
          "execution_count": 9
        },
        {
          "output_type": "display_data",
          "data": {
            "image/png": "[encoded data removed]",
            "text/plain": [
              "<matplotlib.figure.Figure at 0x7f7502aaae48>"
            ]
          },
          "metadata": {
            "tags": []
          }
        }
      ]
    },
    {
      "metadata": {
        "id": "KcqmfUpk-PRF",
        "colab_type": "code",
        "colab": {}
      },
      "cell_type": "code",
      "source": [
        "import seaborn as sns\n",
        "import pandas as pd"
      ],
      "execution_count": 0,
      "outputs": []
    },
    {
      "metadata": {
        "id": "_38oV-En-tNY",
        "colab_type": "code",
        "colab": {
          "base_uri": "https://localhost:8080/",
          "height": 378
        },
        "outputId": "b8e4b8cf-1c1a-4c4c-a0d3-0cdc81fe6f1b"
      },
      "cell_type": "code",
      "source": [
        "# モグモグバーガーのポテトの長さのヒストグラム (seaborn)\n",
        "M_x = pd.Series(length_M, name =\"MoguMogu Potato Length\")\n",
        "sns.distplot(M_x)"
      ],
      "execution_count": 11,
      "outputs": [
        {
          "output_type": "execute_result",
          "data": {
            "text/plain": [
              "<matplotlib.axes._subplots.AxesSubplot at 0x7f7502a77240>"
            ]
          },
          "metadata": {
            "tags": []
          },
          "execution_count": 11
        },
        {
          "output_type": "display_data",
          "data": {
            "image/png": "[encoded data removed]",
            "text/plain": [
              "<matplotlib.figure.Figure at 0x7f75029ae4a8>"
            ]
          },
          "metadata": {
            "tags": []
          }
        }
      ]
    },
    {
      "metadata": {
        "id": "3oe-JJsj_r8h",
        "colab_type": "code",
        "colab": {
          "base_uri": "https://localhost:8080/",
          "height": 378
        },
        "outputId": "7c781003-2775-41ff-e5ad-cbac029b2e3d"
      },
      "cell_type": "code",
      "source": [
        "# ワクワクバーガーのポテトの長さのヒストグラム (seaborn)\n",
        "W_x = pd.Series(length_W, name =\"WakuWaku Potato Length\")\n",
        "sns.distplot(W_x)"
      ],
      "execution_count": 12,
      "outputs": [
        {
          "output_type": "execute_result",
          "data": {
            "text/plain": [
              "<matplotlib.axes._subplots.AxesSubplot at 0x7f75029aeef0>"
            ]
          },
          "metadata": {
            "tags": []
          },
          "execution_count": 12
        },
        {
          "output_type": "display_data",
          "data": {
            "image/png": "[encoded data removed]",
            "text/plain": [
              "<matplotlib.figure.Figure at 0x7f750297b630>"
            ]
          },
          "metadata": {
            "tags": []
          }
        }
      ]
    },
    {
      "metadata": {
        "id": "Y2_xvk4wA-Z8",
        "colab_type": "text"
      },
      "cell_type": "markdown",
      "source": [
        "1.4　分散と標準偏差\n",
        "http://kogolab.chillout.jp/elearn/hamburger/chap1/sec4.html"
      ]
    },
    {
      "metadata": {
        "id": "FHLPKPoI_8Qd",
        "colab_type": "code",
        "colab": {
          "base_uri": "https://localhost:8080/",
          "height": 34
        },
        "outputId": "e283dff4-3a59-46cc-d6c9-cde194e6d20b"
      },
      "cell_type": "code",
      "source": [
        "# モグモグバーガーのポテトの長さの分散\n",
        "np.var(length_M)"
      ],
      "execution_count": 13,
      "outputs": [
        {
          "output_type": "execute_result",
          "data": {
            "text/plain": [
              "2.5848979591836736"
            ]
          },
          "metadata": {
            "tags": []
          },
          "execution_count": 13
        }
      ]
    },
    {
      "metadata": {
        "id": "ZpeDUoZOAHeU",
        "colab_type": "code",
        "colab": {
          "base_uri": "https://localhost:8080/",
          "height": 34
        },
        "outputId": "ce3232dc-fcaa-4b63-d00c-266e79100346"
      },
      "cell_type": "code",
      "source": [
        "# モグモグバーガーのポテトの長さの標準偏差\n",
        "np.std(length_M)"
      ],
      "execution_count": 14,
      "outputs": [
        {
          "output_type": "execute_result",
          "data": {
            "text/plain": [
              "1.6077617855838202"
            ]
          },
          "metadata": {
            "tags": []
          },
          "execution_count": 14
        }
      ]
    },
    {
      "metadata": {
        "id": "5V9oaaWGANgB",
        "colab_type": "code",
        "colab": {
          "base_uri": "https://localhost:8080/",
          "height": 34
        },
        "outputId": "a1b76d04-50fd-4cfe-8243-6f1a970846d3"
      },
      "cell_type": "code",
      "source": [
        "# ワクワクバーガーのポテトの長さの分散\n",
        "np.var(length_W)"
      ],
      "execution_count": 15,
      "outputs": [
        {
          "output_type": "execute_result",
          "data": {
            "text/plain": [
              "0.6808163265306122"
            ]
          },
          "metadata": {
            "tags": []
          },
          "execution_count": 15
        }
      ]
    },
    {
      "metadata": {
        "id": "Fa4iW0qmAUQh",
        "colab_type": "code",
        "colab": {
          "base_uri": "https://localhost:8080/",
          "height": 34
        },
        "outputId": "07299be5-308a-455e-a8b9-70d99423b934"
      },
      "cell_type": "code",
      "source": [
        "# ワクワクバーガーのポテトの長さの標準偏差\n",
        "np.std(length_W)"
      ],
      "execution_count": 16,
      "outputs": [
        {
          "output_type": "execute_result",
          "data": {
            "text/plain": [
              "0.8251159473253514"
            ]
          },
          "metadata": {
            "tags": []
          },
          "execution_count": 16
        }
      ]
    },
    {
      "metadata": {
        "id": "_O_Vvo2DA3qx",
        "colab_type": "text"
      },
      "cell_type": "markdown",
      "source": [
        "1.5　実践編：チキンでいこう\n",
        "http://kogolab.chillout.jp/elearn/hamburger/chap1/sec5.html"
      ]
    },
    {
      "metadata": {
        "id": "9sJ9jy-QD4Uq",
        "colab_type": "code",
        "colab": {}
      },
      "cell_type": "code",
      "source": [
        "chiken_weight_W = [135, 142, 149, 146, 149, 144, 137, 138, 156, 153, 150, 147, 136, 160, 142, 157]\n",
        "chiken_weight_M = [144, 143, 139, 166, 169, 144, 147, 138, 176, 133, 170, 137, 146, 140, 122, 177]"
      ],
      "execution_count": 0,
      "outputs": []
    },
    {
      "metadata": {
        "id": "aOrpWJ5XD6qK",
        "colab_type": "code",
        "colab": {
          "base_uri": "https://localhost:8080/",
          "height": 34
        },
        "outputId": "8f9872fc-694c-4bce-81f4-e24481f7c8a9"
      },
      "cell_type": "code",
      "source": [
        "# ワクワクバーガーのチキンの重さの平均\n",
        "np.average(chiken_weight_W)"
      ],
      "execution_count": 18,
      "outputs": [
        {
          "output_type": "execute_result",
          "data": {
            "text/plain": [
              "146.3125"
            ]
          },
          "metadata": {
            "tags": []
          },
          "execution_count": 18
        }
      ]
    },
    {
      "metadata": {
        "id": "iNGXtoAsEGJG",
        "colab_type": "code",
        "colab": {
          "base_uri": "https://localhost:8080/",
          "height": 34
        },
        "outputId": "7a3673dd-d8b2-4232-f2a7-3ebc55ff07a9"
      },
      "cell_type": "code",
      "source": [
        "# ワクワクバーガーのチキンの重さの分散\n",
        "np.var(chiken_weight_W)"
      ],
      "execution_count": 19,
      "outputs": [
        {
          "output_type": "execute_result",
          "data": {
            "text/plain": [
              "56.33984375"
            ]
          },
          "metadata": {
            "tags": []
          },
          "execution_count": 19
        }
      ]
    },
    {
      "metadata": {
        "id": "n6gHizM1ELFa",
        "colab_type": "code",
        "colab": {
          "base_uri": "https://localhost:8080/",
          "height": 34
        },
        "outputId": "9c978907-20e8-4612-8d9a-86bf08ab9f8b"
      },
      "cell_type": "code",
      "source": [
        "# ワクワクバーガーのチキンの重さの標準偏差\n",
        "np.std(chiken_weight_W)"
      ],
      "execution_count": 20,
      "outputs": [
        {
          "output_type": "execute_result",
          "data": {
            "text/plain": [
              "7.505987193567545"
            ]
          },
          "metadata": {
            "tags": []
          },
          "execution_count": 20
        }
      ]
    },
    {
      "metadata": {
        "id": "zabVCDCiENbz",
        "colab_type": "code",
        "colab": {
          "base_uri": "https://localhost:8080/",
          "height": 34
        },
        "outputId": "bd4ec863-4e23-4e6b-e215-768175ed5e57"
      },
      "cell_type": "code",
      "source": [
        "# モグモグバーガーのチキンの重さの平均\n",
        "np.average(chiken_weight_M)"
      ],
      "execution_count": 21,
      "outputs": [
        {
          "output_type": "execute_result",
          "data": {
            "text/plain": [
              "149.4375"
            ]
          },
          "metadata": {
            "tags": []
          },
          "execution_count": 21
        }
      ]
    },
    {
      "metadata": {
        "id": "DRSpg6zKEQeH",
        "colab_type": "code",
        "colab": {
          "base_uri": "https://localhost:8080/",
          "height": 34
        },
        "outputId": "e52e44b7-658e-4ad5-83c0-a39ed6155d99"
      },
      "cell_type": "code",
      "source": [
        "# モグモグバーガーのチキンの重さの分散\n",
        "np.var(chiken_weight_M)"
      ],
      "execution_count": 22,
      "outputs": [
        {
          "output_type": "execute_result",
          "data": {
            "text/plain": [
              "260.62109375"
            ]
          },
          "metadata": {
            "tags": []
          },
          "execution_count": 22
        }
      ]
    },
    {
      "metadata": {
        "id": "24z5boDQETQz",
        "colab_type": "code",
        "colab": {
          "base_uri": "https://localhost:8080/",
          "height": 34
        },
        "outputId": "a28a58cf-0007-413c-a069-12a11c304605"
      },
      "cell_type": "code",
      "source": [
        "# モグモグバーガーのチキンの重さの標準偏差\n",
        "np.std(chiken_weight_M)"
      ],
      "execution_count": 23,
      "outputs": [
        {
          "output_type": "execute_result",
          "data": {
            "text/plain": [
              "16.14376330816331"
            ]
          },
          "metadata": {
            "tags": []
          },
          "execution_count": 23
        }
      ]
    },
    {
      "metadata": {
        "id": "Q10fSgIiExLL",
        "colab_type": "text"
      },
      "cell_type": "markdown",
      "source": [
        "1.9　通過テスト http://kogolab.chillout.jp/elearn/hamburger/chap1/sec9.html"
      ]
    },
    {
      "metadata": {
        "id": "UNqwfiwcEvhf",
        "colab_type": "code",
        "colab": {
          "base_uri": "https://localhost:8080/",
          "height": 134
        },
        "outputId": "65e22375-6852-49a1-d1e9-cb8a0ffcebd0"
      },
      "cell_type": "code",
      "source": [
        "1.9　通過テスト"
      ],
      "execution_count": 24,
      "outputs": [
        {
          "output_type": "error",
          "ename": "SyntaxError",
          "evalue": "ignored",
          "traceback": [
            "\u001b[0;36m  File \u001b[0;32m\"<ipython-input-24-f09f0644d8ae>\"\u001b[0;36m, line \u001b[0;32m1\u001b[0m\n\u001b[0;31m    1.9　通過テスト\u001b[0m\n\u001b[0m       　    ^\u001b[0m\n\u001b[0;31mSyntaxError\u001b[0m\u001b[0;31m:\u001b[0m invalid character in identifier\n"
          ]
        }
      ]
    },
    {
      "metadata": {
        "id": "6ebyR593FbEa",
        "colab_type": "code",
        "colab": {}
      },
      "cell_type": "code",
      "source": [
        "score_sakura = [78, 62, 81, 59, 72, 68, 75, 65, 80, 60, 78, 62, 70]\n",
        "score_momo = [70, 72, 68, 75, 65, 71, 69, 76, 64, 80, 60, 73, 67]\n",
        "score_yanagi = [57, 59, 55, 62, 52, 58, 56, 63, 51, 67, 47, 60, 54]"
      ],
      "execution_count": 0,
      "outputs": []
    },
    {
      "metadata": {
        "id": "FS0yaPiuGGtq",
        "colab_type": "text"
      },
      "cell_type": "markdown",
      "source": [
        "平均"
      ]
    },
    {
      "metadata": {
        "id": "GlZEj97ZFcNt",
        "colab_type": "code",
        "colab": {
          "base_uri": "https://localhost:8080/",
          "height": 34
        },
        "outputId": "bdbd942e-e603-486a-89ef-b9e70da1b9a5"
      },
      "cell_type": "code",
      "source": [
        "np.average(score_sakura)"
      ],
      "execution_count": 59,
      "outputs": [
        {
          "output_type": "execute_result",
          "data": {
            "text/plain": [
              "70.0"
            ]
          },
          "metadata": {
            "tags": []
          },
          "execution_count": 59
        }
      ]
    },
    {
      "metadata": {
        "id": "vOvZGiEsFqB5",
        "colab_type": "code",
        "colab": {
          "base_uri": "https://localhost:8080/",
          "height": 34
        },
        "outputId": "6c29d8ea-cb02-483a-b5d1-93d6ea3a0e14"
      },
      "cell_type": "code",
      "source": [
        "np.average(score_momo)"
      ],
      "execution_count": 60,
      "outputs": [
        {
          "output_type": "execute_result",
          "data": {
            "text/plain": [
              "70.0"
            ]
          },
          "metadata": {
            "tags": []
          },
          "execution_count": 60
        }
      ]
    },
    {
      "metadata": {
        "id": "SJ8sRWRVFv6p",
        "colab_type": "code",
        "colab": {
          "base_uri": "https://localhost:8080/",
          "height": 34
        },
        "outputId": "1bd83567-1725-4a92-abe4-958b269816da"
      },
      "cell_type": "code",
      "source": [
        "np.average(score_yanagi)"
      ],
      "execution_count": 61,
      "outputs": [
        {
          "output_type": "execute_result",
          "data": {
            "text/plain": [
              "57.0"
            ]
          },
          "metadata": {
            "tags": []
          },
          "execution_count": 61
        }
      ]
    },
    {
      "metadata": {
        "id": "zA69vIgNGJmM",
        "colab_type": "text"
      },
      "cell_type": "markdown",
      "source": [
        "平均は 桜と桃が 70点、柳が57点であり。桜・桃が柳より高得点である。"
      ]
    },
    {
      "metadata": {
        "id": "tv5KjfvzFyA-",
        "colab_type": "code",
        "colab": {
          "base_uri": "https://localhost:8080/",
          "height": 34
        },
        "outputId": "f0a4cacb-f3f6-4799-ab74-30a519579be0"
      },
      "cell_type": "code",
      "source": [
        "np.var(score_sakura)"
      ],
      "execution_count": 62,
      "outputs": [
        {
          "output_type": "execute_result",
          "data": {
            "text/plain": [
              "58.15384615384615"
            ]
          },
          "metadata": {
            "tags": []
          },
          "execution_count": 62
        }
      ]
    },
    {
      "metadata": {
        "id": "uzprvxIlF0_t",
        "colab_type": "code",
        "colab": {
          "base_uri": "https://localhost:8080/",
          "height": 34
        },
        "outputId": "b76474e1-f837-41c8-f1d3-c1a0ea2a5800"
      },
      "cell_type": "code",
      "source": [
        "np.var(score_momo)"
      ],
      "execution_count": 64,
      "outputs": [
        {
          "output_type": "execute_result",
          "data": {
            "text/plain": [
              "26.923076923076923"
            ]
          },
          "metadata": {
            "tags": []
          },
          "execution_count": 64
        }
      ]
    },
    {
      "metadata": {
        "id": "UO6DI2OpF5RL",
        "colab_type": "code",
        "colab": {
          "base_uri": "https://localhost:8080/",
          "height": 34
        },
        "outputId": "9d72d9fd-4eed-409f-f936-a4bdf68ca100"
      },
      "cell_type": "code",
      "source": [
        "np.var(score_yanagi)"
      ],
      "execution_count": 66,
      "outputs": [
        {
          "output_type": "execute_result",
          "data": {
            "text/plain": [
              "26.923076923076923"
            ]
          },
          "metadata": {
            "tags": []
          },
          "execution_count": 66
        }
      ]
    },
    {
      "metadata": {
        "id": "3ZLt3hl-GmqV",
        "colab_type": "text"
      },
      "cell_type": "markdown",
      "source": [
        "分散は 桜が 58.1 に対して 桃・柳が 26.9 と桜の点数のばらつきの大きさが際立つ"
      ]
    },
    {
      "metadata": {
        "id": "U0wO1niUF_Mn",
        "colab_type": "code",
        "colab": {
          "base_uri": "https://localhost:8080/",
          "height": 34
        },
        "outputId": "5ce95a20-a55f-4edd-ebaa-83666b13f1db"
      },
      "cell_type": "code",
      "source": [
        "np.std(score_sakura)"
      ],
      "execution_count": 67,
      "outputs": [
        {
          "output_type": "execute_result",
          "data": {
            "text/plain": [
              "7.62586691162691"
            ]
          },
          "metadata": {
            "tags": []
          },
          "execution_count": 67
        }
      ]
    },
    {
      "metadata": {
        "id": "dqfChzmiGBab",
        "colab_type": "code",
        "colab": {
          "base_uri": "https://localhost:8080/",
          "height": 34
        },
        "outputId": "d593880f-a8c3-4836-cc24-aafec9ddfdc5"
      },
      "cell_type": "code",
      "source": [
        "np.std(score_momo)"
      ],
      "execution_count": 68,
      "outputs": [
        {
          "output_type": "execute_result",
          "data": {
            "text/plain": [
              "5.188745216627709"
            ]
          },
          "metadata": {
            "tags": []
          },
          "execution_count": 68
        }
      ]
    },
    {
      "metadata": {
        "id": "Vz3wtkOXGC1n",
        "colab_type": "code",
        "colab": {
          "base_uri": "https://localhost:8080/",
          "height": 34
        },
        "outputId": "70aa7d77-bd56-4651-ec7a-1faa4bf16be9"
      },
      "cell_type": "code",
      "source": [
        "np.std(score_yanagi)"
      ],
      "execution_count": 69,
      "outputs": [
        {
          "output_type": "execute_result",
          "data": {
            "text/plain": [
              "5.188745216627709"
            ]
          },
          "metadata": {
            "tags": []
          },
          "execution_count": 69
        }
      ]
    }
  ]
}